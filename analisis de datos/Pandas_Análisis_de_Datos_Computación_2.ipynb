{
  "cells": [
    {
      "cell_type": "markdown",
      "metadata": {
        "id": "Wt3nBUVj9mQX"
      },
      "source": [
        "<center> <h1>Universidad Nacional de San Agustín de Arequipa</h1> </center> \n",
        "<center> <h1>Escuela Profesional de Ingeniería de Telecomunicaciones</h1> </center> \n",
        "\n",
        "<center> <h1> </h1> </center> \n",
        "\n",
        "<center><img src=\"https://user-images.githubusercontent.com/19308295/115939517-f1c6fe80-a463-11eb-989c-812ab4942586.png\" width=\"380\" height=\"4200\"></center>"
      ]
    },
    {
      "cell_type": "markdown",
      "metadata": {
        "tags": [],
        "id": "gGa4yrou9mQb"
      },
      "source": [
        "<center> <h2>Ingeniero Renzo Bolivar - Docente DAIE</h2> </center> "
      ]
    },
    {
      "cell_type": "markdown",
      "source": [
        "<center> <h2>Alumno: Rykardo Gabriel Huacan Falcon</h2> </center> "
      ],
      "metadata": {
        "id": "dKbLZzME0HkQ"
      }
    },
    {
      "cell_type": "markdown",
      "metadata": {
        "id": "exaDgSNY9mQc"
      },
      "source": [
        "<center> <h1>Curso : Computación 2</h1> </center> "
      ]
    },
    {
      "cell_type": "markdown",
      "metadata": {
        "id": "BJvzg0qw9mQc"
      },
      "source": [
        "![linea 1](https://user-images.githubusercontent.com/19308295/115926252-2b8a0c00-a448-11eb-9d9c-b43beaf0ff68.png)"
      ]
    },
    {
      "cell_type": "markdown",
      "metadata": {
        "id": "fO4EYj109mQc"
      },
      "source": [
        "<center> <h1>Análisis de Datos con PANDAS</h1> </center> "
      ]
    },
    {
      "cell_type": "markdown",
      "metadata": {
        "id": "M7b9pSHR9mQd"
      },
      "source": [
        "![linea 1](https://user-images.githubusercontent.com/19308295/115926252-2b8a0c00-a448-11eb-9d9c-b43beaf0ff68.png)"
      ]
    },
    {
      "cell_type": "markdown",
      "metadata": {
        "id": "QnThFYqW9mQd"
      },
      "source": [
        "# Descripción:"
      ]
    },
    {
      "cell_type": "markdown",
      "metadata": {
        "id": "5NSkjil39mQd"
      },
      "source": [
        "<div class=\"alert alert-info\">\n",
        "\n",
        "En este notebook se explicarán Análisis de Datos con la librería **Pandas**  en el lenguaje de programación Python. \n",
        "    \n",
        "</div>\n",
        "\n"
      ]
    },
    {
      "cell_type": "markdown",
      "metadata": {
        "id": "WR9MngjR9mQe"
      },
      "source": [
        "# Objetivos:\n",
        "\n",
        " 1. Importando archivos ***csv*** y manipulación inicial en **Pandas.**\n",
        " 2. Analisis con datos reales de Futbol"
      ]
    },
    {
      "cell_type": "markdown",
      "metadata": {
        "id": "IPG3rijR9mQf"
      },
      "source": [
        "\n",
        "[Análisis de Datos English Premier League (EPL)](#Análisis-de-Datos-English-Premier-League-(EPL)-2020-2021)<br>\n",
        "\n",
        "\n",
        "\n",
        "[BIBLIOGRAFÍA](#BIBLIOGRAFÍA)<br>"
      ]
    },
    {
      "cell_type": "markdown",
      "metadata": {
        "id": "9ShalTI_9mQf"
      },
      "source": [
        "![linea 1](https://user-images.githubusercontent.com/19308295/115926252-2b8a0c00-a448-11eb-9d9c-b43beaf0ff68.png)"
      ]
    },
    {
      "cell_type": "markdown",
      "metadata": {
        "id": "8mrRKv8b9mQg"
      },
      "source": [
        "<center><img src=\"https://futbolete.com/apuestas/wp-content/uploads/2021/01/premier-league.png\" width=\"600\" height=\"4200\"></center>"
      ]
    },
    {
      "cell_type": "markdown",
      "metadata": {
        "id": "corAsna_9mQg"
      },
      "source": [
        "![linea 2](https://user-images.githubusercontent.com/19308295/115926262-2fb62980-a448-11eb-8189-c2f10e499944.png)"
      ]
    },
    {
      "cell_type": "markdown",
      "metadata": {
        "id": "Go2lx9yp9mQg"
      },
      "source": [
        "<div class=\"alert alert-info\"> La <strong>Premier League</strong>, también conocida en Inglaterra como The Premiership, es la máxima categoría del sistema de ligas de fútbol de Inglaterra. Comenzó a disputarse en la temporada 1992-93</div>"
      ]
    },
    {
      "cell_type": "markdown",
      "metadata": {
        "id": "Bw0jQo189mQg"
      },
      "source": [
        "<div class=\"alert alert-info\"> El análisis se realiza de la ultima temporada <strong>2020-2021</strong> de la <strong> Premier League</strong>\n",
        "\n",
        "La Colección de datos utilizada de la temporada <strong>2020-2021</strong> de la <strong> Premier League</strong>\n",
        "fueron descargados desde:\n",
        "\n",
        "</div>\n",
        "\n",
        "https://bit.ly/3aRnGVx"
      ]
    },
    {
      "cell_type": "markdown",
      "metadata": {
        "id": "yuniWuFQ9mQh"
      },
      "source": [
        "![linea 2](https://user-images.githubusercontent.com/19308295/115926262-2fb62980-a448-11eb-8189-c2f10e499944.png)"
      ]
    },
    {
      "cell_type": "markdown",
      "metadata": {
        "id": "K9WZnKiW9mQh"
      },
      "source": [
        "## <font color=#33A5FF>****Análisis de Datos English Premier League (EPL) 2020-2021****<tfont>"
      ]
    },
    {
      "cell_type": "code",
      "execution_count": null,
      "metadata": {
        "id": "-oqXlNx29mQh"
      },
      "outputs": [],
      "source": [
        "#Librerías\n",
        "import numpy as np\n",
        "import pandas as pd\n",
        "import matplotlib.pyplot as plt\n",
        "import seaborn as sns\n",
        "\n",
        "%matplotlib inline"
      ]
    },
    {
      "cell_type": "markdown",
      "metadata": {
        "id": "XV8MIpXF9mQi"
      },
      "source": [
        "Cargamos los **datos** para luego ***limpiar nuestros datos***."
      ]
    },
    {
      "cell_type": "code",
      "execution_count": null,
      "metadata": {
        "id": "XiMrWYo09mQi"
      },
      "outputs": [],
      "source": [
        "#cargamos un archivo CSV separado por comas\n",
        "epl = pd.read_csv('EPL_20_21.csv')\n"
      ]
    },
    {
      "cell_type": "code",
      "execution_count": null,
      "metadata": {
        "colab": {
          "base_uri": "https://localhost:8080/",
          "height": 357
        },
        "id": "8xEKYRpE9mQj",
        "outputId": "e3776810-c57c-4ff8-8785-3d0a3f3609b7"
      },
      "outputs": [
        {
          "output_type": "execute_result",
          "data": {
            "text/plain": [
              "            Name     Club Nationality Position  Age  Matches  Starts  Mins  \\\n",
              "0    Mason Mount  Chelsea         ENG    MF,FW   21       36      32  2890   \n",
              "1  Edouard Mendy  Chelsea         SEN       GK   28       31      31  2745   \n",
              "2    Timo Werner  Chelsea         GER       FW   24       35      29  2602   \n",
              "3   Ben Chilwell  Chelsea         ENG       DF   23       27      27  2286   \n",
              "4    Reece James  Chelsea         ENG       DF   20       32      25  2373   \n",
              "\n",
              "   Goals  Assists  Passes_Attempted  Perc_Passes_Completed  Penalty_Goals  \\\n",
              "0      6        5              1881                   82.3              1   \n",
              "1      0        0              1007                   84.6              0   \n",
              "2      6        8               826                   77.2              0   \n",
              "3      3        5              1806                   78.6              0   \n",
              "4      1        2              1987                   85.0              0   \n",
              "\n",
              "   Penalty_Attempted    xG    xA  Yellow_Cards  Red_Cards  \n",
              "0                  1  0.21  0.24             2          0  \n",
              "1                  0  0.00  0.00             2          0  \n",
              "2                  0  0.41  0.21             2          0  \n",
              "3                  0  0.10  0.11             3          0  \n",
              "4                  0  0.06  0.12             3          0  "
            ],
            "text/html": [
              "\n",
              "  <div id=\"df-73044b6b-f350-4fce-886b-c6f4a7691be9\">\n",
              "    <div class=\"colab-df-container\">\n",
              "      <div>\n",
              "<style scoped>\n",
              "    .dataframe tbody tr th:only-of-type {\n",
              "        vertical-align: middle;\n",
              "    }\n",
              "\n",
              "    .dataframe tbody tr th {\n",
              "        vertical-align: top;\n",
              "    }\n",
              "\n",
              "    .dataframe thead th {\n",
              "        text-align: right;\n",
              "    }\n",
              "</style>\n",
              "<table border=\"1\" class=\"dataframe\">\n",
              "  <thead>\n",
              "    <tr style=\"text-align: right;\">\n",
              "      <th></th>\n",
              "      <th>Name</th>\n",
              "      <th>Club</th>\n",
              "      <th>Nationality</th>\n",
              "      <th>Position</th>\n",
              "      <th>Age</th>\n",
              "      <th>Matches</th>\n",
              "      <th>Starts</th>\n",
              "      <th>Mins</th>\n",
              "      <th>Goals</th>\n",
              "      <th>Assists</th>\n",
              "      <th>Passes_Attempted</th>\n",
              "      <th>Perc_Passes_Completed</th>\n",
              "      <th>Penalty_Goals</th>\n",
              "      <th>Penalty_Attempted</th>\n",
              "      <th>xG</th>\n",
              "      <th>xA</th>\n",
              "      <th>Yellow_Cards</th>\n",
              "      <th>Red_Cards</th>\n",
              "    </tr>\n",
              "  </thead>\n",
              "  <tbody>\n",
              "    <tr>\n",
              "      <th>0</th>\n",
              "      <td>Mason Mount</td>\n",
              "      <td>Chelsea</td>\n",
              "      <td>ENG</td>\n",
              "      <td>MF,FW</td>\n",
              "      <td>21</td>\n",
              "      <td>36</td>\n",
              "      <td>32</td>\n",
              "      <td>2890</td>\n",
              "      <td>6</td>\n",
              "      <td>5</td>\n",
              "      <td>1881</td>\n",
              "      <td>82.3</td>\n",
              "      <td>1</td>\n",
              "      <td>1</td>\n",
              "      <td>0.21</td>\n",
              "      <td>0.24</td>\n",
              "      <td>2</td>\n",
              "      <td>0</td>\n",
              "    </tr>\n",
              "    <tr>\n",
              "      <th>1</th>\n",
              "      <td>Edouard Mendy</td>\n",
              "      <td>Chelsea</td>\n",
              "      <td>SEN</td>\n",
              "      <td>GK</td>\n",
              "      <td>28</td>\n",
              "      <td>31</td>\n",
              "      <td>31</td>\n",
              "      <td>2745</td>\n",
              "      <td>0</td>\n",
              "      <td>0</td>\n",
              "      <td>1007</td>\n",
              "      <td>84.6</td>\n",
              "      <td>0</td>\n",
              "      <td>0</td>\n",
              "      <td>0.00</td>\n",
              "      <td>0.00</td>\n",
              "      <td>2</td>\n",
              "      <td>0</td>\n",
              "    </tr>\n",
              "    <tr>\n",
              "      <th>2</th>\n",
              "      <td>Timo Werner</td>\n",
              "      <td>Chelsea</td>\n",
              "      <td>GER</td>\n",
              "      <td>FW</td>\n",
              "      <td>24</td>\n",
              "      <td>35</td>\n",
              "      <td>29</td>\n",
              "      <td>2602</td>\n",
              "      <td>6</td>\n",
              "      <td>8</td>\n",
              "      <td>826</td>\n",
              "      <td>77.2</td>\n",
              "      <td>0</td>\n",
              "      <td>0</td>\n",
              "      <td>0.41</td>\n",
              "      <td>0.21</td>\n",
              "      <td>2</td>\n",
              "      <td>0</td>\n",
              "    </tr>\n",
              "    <tr>\n",
              "      <th>3</th>\n",
              "      <td>Ben Chilwell</td>\n",
              "      <td>Chelsea</td>\n",
              "      <td>ENG</td>\n",
              "      <td>DF</td>\n",
              "      <td>23</td>\n",
              "      <td>27</td>\n",
              "      <td>27</td>\n",
              "      <td>2286</td>\n",
              "      <td>3</td>\n",
              "      <td>5</td>\n",
              "      <td>1806</td>\n",
              "      <td>78.6</td>\n",
              "      <td>0</td>\n",
              "      <td>0</td>\n",
              "      <td>0.10</td>\n",
              "      <td>0.11</td>\n",
              "      <td>3</td>\n",
              "      <td>0</td>\n",
              "    </tr>\n",
              "    <tr>\n",
              "      <th>4</th>\n",
              "      <td>Reece James</td>\n",
              "      <td>Chelsea</td>\n",
              "      <td>ENG</td>\n",
              "      <td>DF</td>\n",
              "      <td>20</td>\n",
              "      <td>32</td>\n",
              "      <td>25</td>\n",
              "      <td>2373</td>\n",
              "      <td>1</td>\n",
              "      <td>2</td>\n",
              "      <td>1987</td>\n",
              "      <td>85.0</td>\n",
              "      <td>0</td>\n",
              "      <td>0</td>\n",
              "      <td>0.06</td>\n",
              "      <td>0.12</td>\n",
              "      <td>3</td>\n",
              "      <td>0</td>\n",
              "    </tr>\n",
              "  </tbody>\n",
              "</table>\n",
              "</div>\n",
              "      <button class=\"colab-df-convert\" onclick=\"convertToInteractive('df-73044b6b-f350-4fce-886b-c6f4a7691be9')\"\n",
              "              title=\"Convert this dataframe to an interactive table.\"\n",
              "              style=\"display:none;\">\n",
              "        \n",
              "  <svg xmlns=\"http://www.w3.org/2000/svg\" height=\"24px\"viewBox=\"0 0 24 24\"\n",
              "       width=\"24px\">\n",
              "    <path d=\"M0 0h24v24H0V0z\" fill=\"none\"/>\n",
              "    <path d=\"M18.56 5.44l.94 2.06.94-2.06 2.06-.94-2.06-.94-.94-2.06-.94 2.06-2.06.94zm-11 1L8.5 8.5l.94-2.06 2.06-.94-2.06-.94L8.5 2.5l-.94 2.06-2.06.94zm10 10l.94 2.06.94-2.06 2.06-.94-2.06-.94-.94-2.06-.94 2.06-2.06.94z\"/><path d=\"M17.41 7.96l-1.37-1.37c-.4-.4-.92-.59-1.43-.59-.52 0-1.04.2-1.43.59L10.3 9.45l-7.72 7.72c-.78.78-.78 2.05 0 2.83L4 21.41c.39.39.9.59 1.41.59.51 0 1.02-.2 1.41-.59l7.78-7.78 2.81-2.81c.8-.78.8-2.07 0-2.86zM5.41 20L4 18.59l7.72-7.72 1.47 1.35L5.41 20z\"/>\n",
              "  </svg>\n",
              "      </button>\n",
              "      \n",
              "  <style>\n",
              "    .colab-df-container {\n",
              "      display:flex;\n",
              "      flex-wrap:wrap;\n",
              "      gap: 12px;\n",
              "    }\n",
              "\n",
              "    .colab-df-convert {\n",
              "      background-color: #E8F0FE;\n",
              "      border: none;\n",
              "      border-radius: 50%;\n",
              "      cursor: pointer;\n",
              "      display: none;\n",
              "      fill: #1967D2;\n",
              "      height: 32px;\n",
              "      padding: 0 0 0 0;\n",
              "      width: 32px;\n",
              "    }\n",
              "\n",
              "    .colab-df-convert:hover {\n",
              "      background-color: #E2EBFA;\n",
              "      box-shadow: 0px 1px 2px rgba(60, 64, 67, 0.3), 0px 1px 3px 1px rgba(60, 64, 67, 0.15);\n",
              "      fill: #174EA6;\n",
              "    }\n",
              "\n",
              "    [theme=dark] .colab-df-convert {\n",
              "      background-color: #3B4455;\n",
              "      fill: #D2E3FC;\n",
              "    }\n",
              "\n",
              "    [theme=dark] .colab-df-convert:hover {\n",
              "      background-color: #434B5C;\n",
              "      box-shadow: 0px 1px 3px 1px rgba(0, 0, 0, 0.15);\n",
              "      filter: drop-shadow(0px 1px 2px rgba(0, 0, 0, 0.3));\n",
              "      fill: #FFFFFF;\n",
              "    }\n",
              "  </style>\n",
              "\n",
              "      <script>\n",
              "        const buttonEl =\n",
              "          document.querySelector('#df-73044b6b-f350-4fce-886b-c6f4a7691be9 button.colab-df-convert');\n",
              "        buttonEl.style.display =\n",
              "          google.colab.kernel.accessAllowed ? 'block' : 'none';\n",
              "\n",
              "        async function convertToInteractive(key) {\n",
              "          const element = document.querySelector('#df-73044b6b-f350-4fce-886b-c6f4a7691be9');\n",
              "          const dataTable =\n",
              "            await google.colab.kernel.invokeFunction('convertToInteractive',\n",
              "                                                     [key], {});\n",
              "          if (!dataTable) return;\n",
              "\n",
              "          const docLinkHtml = 'Like what you see? Visit the ' +\n",
              "            '<a target=\"_blank\" href=https://colab.research.google.com/notebooks/data_table.ipynb>data table notebook</a>'\n",
              "            + ' to learn more about interactive tables.';\n",
              "          element.innerHTML = '';\n",
              "          dataTable['output_type'] = 'display_data';\n",
              "          await google.colab.output.renderOutput(dataTable, element);\n",
              "          const docLink = document.createElement('div');\n",
              "          docLink.innerHTML = docLinkHtml;\n",
              "          element.appendChild(docLink);\n",
              "        }\n",
              "      </script>\n",
              "    </div>\n",
              "  </div>\n",
              "  "
            ]
          },
          "metadata": {},
          "execution_count": 5
        }
      ],
      "source": [
        "#leer 5 primeras lineas\n",
        "epl.head()"
      ]
    },
    {
      "cell_type": "code",
      "source": [
        "epl.shape"
      ],
      "metadata": {
        "colab": {
          "base_uri": "https://localhost:8080/"
        },
        "id": "uplXSoLp-WRE",
        "outputId": "ec0ad5d7-1cad-4c57-fa8c-2e140f21e3f4"
      },
      "execution_count": null,
      "outputs": [
        {
          "output_type": "execute_result",
          "data": {
            "text/plain": [
              "(532, 18)"
            ]
          },
          "metadata": {},
          "execution_count": 6
        }
      ]
    },
    {
      "cell_type": "code",
      "execution_count": null,
      "metadata": {
        "colab": {
          "base_uri": "https://localhost:8080/",
          "height": 326
        },
        "id": "F8NPh5Wx9mQj",
        "outputId": "dadcc826-dc03-44b4-8dea-56ae31d4107e"
      },
      "outputs": [
        {
          "output_type": "execute_result",
          "data": {
            "text/plain": [
              "                Name              Club Nationality Position  Age  Matches  \\\n",
              "260       Moise Kean           Everton         ITA       FW   20        2   \n",
              "527      Lys Mousset  Sheffield United         FRA    FW,MF   24       11   \n",
              "136  Aaron Cresswell   West Ham United         ENG       DF   30       36   \n",
              "309      Ryan Fraser  Newcastle United         SCO    FW,MF   26       18   \n",
              "\n",
              "     Starts  Mins  Goals  Assists  Passes_Attempted  Perc_Passes_Completed  \\\n",
              "260       0    15      0        0                 9                   77.8   \n",
              "527       2   296      0        0                50                   80.0   \n",
              "136      36  3170      0        8              2060                   74.8   \n",
              "309       9   928      0        2               369                   65.9   \n",
              "\n",
              "     Penalty_Goals  Penalty_Attempted    xG    xA  Yellow_Cards  Red_Cards  \n",
              "260              0                  0  0.21  0.00             0          0  \n",
              "527              0                  0  0.22  0.10             0          0  \n",
              "136              0                  0  0.03  0.17             3          0  \n",
              "309              0                  0  0.09  0.20             2          1  "
            ],
            "text/html": [
              "\n",
              "  <div id=\"df-ab88f2cc-4aaa-45c2-bfec-5941afbc66d6\">\n",
              "    <div class=\"colab-df-container\">\n",
              "      <div>\n",
              "<style scoped>\n",
              "    .dataframe tbody tr th:only-of-type {\n",
              "        vertical-align: middle;\n",
              "    }\n",
              "\n",
              "    .dataframe tbody tr th {\n",
              "        vertical-align: top;\n",
              "    }\n",
              "\n",
              "    .dataframe thead th {\n",
              "        text-align: right;\n",
              "    }\n",
              "</style>\n",
              "<table border=\"1\" class=\"dataframe\">\n",
              "  <thead>\n",
              "    <tr style=\"text-align: right;\">\n",
              "      <th></th>\n",
              "      <th>Name</th>\n",
              "      <th>Club</th>\n",
              "      <th>Nationality</th>\n",
              "      <th>Position</th>\n",
              "      <th>Age</th>\n",
              "      <th>Matches</th>\n",
              "      <th>Starts</th>\n",
              "      <th>Mins</th>\n",
              "      <th>Goals</th>\n",
              "      <th>Assists</th>\n",
              "      <th>Passes_Attempted</th>\n",
              "      <th>Perc_Passes_Completed</th>\n",
              "      <th>Penalty_Goals</th>\n",
              "      <th>Penalty_Attempted</th>\n",
              "      <th>xG</th>\n",
              "      <th>xA</th>\n",
              "      <th>Yellow_Cards</th>\n",
              "      <th>Red_Cards</th>\n",
              "    </tr>\n",
              "  </thead>\n",
              "  <tbody>\n",
              "    <tr>\n",
              "      <th>260</th>\n",
              "      <td>Moise Kean</td>\n",
              "      <td>Everton</td>\n",
              "      <td>ITA</td>\n",
              "      <td>FW</td>\n",
              "      <td>20</td>\n",
              "      <td>2</td>\n",
              "      <td>0</td>\n",
              "      <td>15</td>\n",
              "      <td>0</td>\n",
              "      <td>0</td>\n",
              "      <td>9</td>\n",
              "      <td>77.8</td>\n",
              "      <td>0</td>\n",
              "      <td>0</td>\n",
              "      <td>0.21</td>\n",
              "      <td>0.00</td>\n",
              "      <td>0</td>\n",
              "      <td>0</td>\n",
              "    </tr>\n",
              "    <tr>\n",
              "      <th>527</th>\n",
              "      <td>Lys Mousset</td>\n",
              "      <td>Sheffield United</td>\n",
              "      <td>FRA</td>\n",
              "      <td>FW,MF</td>\n",
              "      <td>24</td>\n",
              "      <td>11</td>\n",
              "      <td>2</td>\n",
              "      <td>296</td>\n",
              "      <td>0</td>\n",
              "      <td>0</td>\n",
              "      <td>50</td>\n",
              "      <td>80.0</td>\n",
              "      <td>0</td>\n",
              "      <td>0</td>\n",
              "      <td>0.22</td>\n",
              "      <td>0.10</td>\n",
              "      <td>0</td>\n",
              "      <td>0</td>\n",
              "    </tr>\n",
              "    <tr>\n",
              "      <th>136</th>\n",
              "      <td>Aaron Cresswell</td>\n",
              "      <td>West Ham United</td>\n",
              "      <td>ENG</td>\n",
              "      <td>DF</td>\n",
              "      <td>30</td>\n",
              "      <td>36</td>\n",
              "      <td>36</td>\n",
              "      <td>3170</td>\n",
              "      <td>0</td>\n",
              "      <td>8</td>\n",
              "      <td>2060</td>\n",
              "      <td>74.8</td>\n",
              "      <td>0</td>\n",
              "      <td>0</td>\n",
              "      <td>0.03</td>\n",
              "      <td>0.17</td>\n",
              "      <td>3</td>\n",
              "      <td>0</td>\n",
              "    </tr>\n",
              "    <tr>\n",
              "      <th>309</th>\n",
              "      <td>Ryan Fraser</td>\n",
              "      <td>Newcastle United</td>\n",
              "      <td>SCO</td>\n",
              "      <td>FW,MF</td>\n",
              "      <td>26</td>\n",
              "      <td>18</td>\n",
              "      <td>9</td>\n",
              "      <td>928</td>\n",
              "      <td>0</td>\n",
              "      <td>2</td>\n",
              "      <td>369</td>\n",
              "      <td>65.9</td>\n",
              "      <td>0</td>\n",
              "      <td>0</td>\n",
              "      <td>0.09</td>\n",
              "      <td>0.20</td>\n",
              "      <td>2</td>\n",
              "      <td>1</td>\n",
              "    </tr>\n",
              "  </tbody>\n",
              "</table>\n",
              "</div>\n",
              "      <button class=\"colab-df-convert\" onclick=\"convertToInteractive('df-ab88f2cc-4aaa-45c2-bfec-5941afbc66d6')\"\n",
              "              title=\"Convert this dataframe to an interactive table.\"\n",
              "              style=\"display:none;\">\n",
              "        \n",
              "  <svg xmlns=\"http://www.w3.org/2000/svg\" height=\"24px\"viewBox=\"0 0 24 24\"\n",
              "       width=\"24px\">\n",
              "    <path d=\"M0 0h24v24H0V0z\" fill=\"none\"/>\n",
              "    <path d=\"M18.56 5.44l.94 2.06.94-2.06 2.06-.94-2.06-.94-.94-2.06-.94 2.06-2.06.94zm-11 1L8.5 8.5l.94-2.06 2.06-.94-2.06-.94L8.5 2.5l-.94 2.06-2.06.94zm10 10l.94 2.06.94-2.06 2.06-.94-2.06-.94-.94-2.06-.94 2.06-2.06.94z\"/><path d=\"M17.41 7.96l-1.37-1.37c-.4-.4-.92-.59-1.43-.59-.52 0-1.04.2-1.43.59L10.3 9.45l-7.72 7.72c-.78.78-.78 2.05 0 2.83L4 21.41c.39.39.9.59 1.41.59.51 0 1.02-.2 1.41-.59l7.78-7.78 2.81-2.81c.8-.78.8-2.07 0-2.86zM5.41 20L4 18.59l7.72-7.72 1.47 1.35L5.41 20z\"/>\n",
              "  </svg>\n",
              "      </button>\n",
              "      \n",
              "  <style>\n",
              "    .colab-df-container {\n",
              "      display:flex;\n",
              "      flex-wrap:wrap;\n",
              "      gap: 12px;\n",
              "    }\n",
              "\n",
              "    .colab-df-convert {\n",
              "      background-color: #E8F0FE;\n",
              "      border: none;\n",
              "      border-radius: 50%;\n",
              "      cursor: pointer;\n",
              "      display: none;\n",
              "      fill: #1967D2;\n",
              "      height: 32px;\n",
              "      padding: 0 0 0 0;\n",
              "      width: 32px;\n",
              "    }\n",
              "\n",
              "    .colab-df-convert:hover {\n",
              "      background-color: #E2EBFA;\n",
              "      box-shadow: 0px 1px 2px rgba(60, 64, 67, 0.3), 0px 1px 3px 1px rgba(60, 64, 67, 0.15);\n",
              "      fill: #174EA6;\n",
              "    }\n",
              "\n",
              "    [theme=dark] .colab-df-convert {\n",
              "      background-color: #3B4455;\n",
              "      fill: #D2E3FC;\n",
              "    }\n",
              "\n",
              "    [theme=dark] .colab-df-convert:hover {\n",
              "      background-color: #434B5C;\n",
              "      box-shadow: 0px 1px 3px 1px rgba(0, 0, 0, 0.15);\n",
              "      filter: drop-shadow(0px 1px 2px rgba(0, 0, 0, 0.3));\n",
              "      fill: #FFFFFF;\n",
              "    }\n",
              "  </style>\n",
              "\n",
              "      <script>\n",
              "        const buttonEl =\n",
              "          document.querySelector('#df-ab88f2cc-4aaa-45c2-bfec-5941afbc66d6 button.colab-df-convert');\n",
              "        buttonEl.style.display =\n",
              "          google.colab.kernel.accessAllowed ? 'block' : 'none';\n",
              "\n",
              "        async function convertToInteractive(key) {\n",
              "          const element = document.querySelector('#df-ab88f2cc-4aaa-45c2-bfec-5941afbc66d6');\n",
              "          const dataTable =\n",
              "            await google.colab.kernel.invokeFunction('convertToInteractive',\n",
              "                                                     [key], {});\n",
              "          if (!dataTable) return;\n",
              "\n",
              "          const docLinkHtml = 'Like what you see? Visit the ' +\n",
              "            '<a target=\"_blank\" href=https://colab.research.google.com/notebooks/data_table.ipynb>data table notebook</a>'\n",
              "            + ' to learn more about interactive tables.';\n",
              "          element.innerHTML = '';\n",
              "          dataTable['output_type'] = 'display_data';\n",
              "          await google.colab.output.renderOutput(dataTable, element);\n",
              "          const docLink = document.createElement('div');\n",
              "          docLink.innerHTML = docLinkHtml;\n",
              "          element.appendChild(docLink);\n",
              "        }\n",
              "      </script>\n",
              "    </div>\n",
              "  </div>\n",
              "  "
            ]
          },
          "metadata": {},
          "execution_count": 7
        }
      ],
      "source": [
        "#leer 4 primeras lineas aleatorias\n",
        "epl.sample(4)\n"
      ]
    },
    {
      "cell_type": "code",
      "execution_count": null,
      "metadata": {
        "colab": {
          "base_uri": "https://localhost:8080/"
        },
        "id": "C7iauS1_9mQj",
        "outputId": "4a1aae78-ea14-44dc-c724-9a23d69f6839"
      },
      "outputs": [
        {
          "output_type": "stream",
          "name": "stdout",
          "text": [
            "<class 'pandas.core.frame.DataFrame'>\n",
            "RangeIndex: 532 entries, 0 to 531\n",
            "Data columns (total 18 columns):\n",
            " #   Column                 Non-Null Count  Dtype  \n",
            "---  ------                 --------------  -----  \n",
            " 0   Name                   532 non-null    object \n",
            " 1   Club                   532 non-null    object \n",
            " 2   Nationality            532 non-null    object \n",
            " 3   Position               532 non-null    object \n",
            " 4   Age                    532 non-null    int64  \n",
            " 5   Matches                532 non-null    int64  \n",
            " 6   Starts                 532 non-null    int64  \n",
            " 7   Mins                   532 non-null    int64  \n",
            " 8   Goals                  532 non-null    int64  \n",
            " 9   Assists                532 non-null    int64  \n",
            " 10  Passes_Attempted       532 non-null    int64  \n",
            " 11  Perc_Passes_Completed  532 non-null    float64\n",
            " 12  Penalty_Goals          532 non-null    int64  \n",
            " 13  Penalty_Attempted      532 non-null    int64  \n",
            " 14  xG                     532 non-null    float64\n",
            " 15  xA                     532 non-null    float64\n",
            " 16  Yellow_Cards           532 non-null    int64  \n",
            " 17  Red_Cards              532 non-null    int64  \n",
            "dtypes: float64(3), int64(11), object(4)\n",
            "memory usage: 74.9+ KB\n"
          ]
        }
      ],
      "source": [
        "#Información del DataFrame\n",
        "epl.info()\n"
      ]
    },
    {
      "cell_type": "code",
      "execution_count": null,
      "metadata": {
        "colab": {
          "base_uri": "https://localhost:8080/",
          "height": 488
        },
        "id": "MQkSWJHT9mQj",
        "outputId": "5ab379f9-062c-465d-9c22-64b31ae74195"
      },
      "outputs": [
        {
          "output_type": "execute_result",
          "data": {
            "text/plain": [
              "                       count         mean          std   min     25%      50%  \\\n",
              "Age                    532.0    25.500000     4.319404  16.0   22.00    26.00   \n",
              "Matches                532.0    19.535714    11.840459   1.0    9.00    21.00   \n",
              "Starts                 532.0    15.714286    11.921161   0.0    4.00    15.00   \n",
              "Mins                   532.0  1411.443609  1043.171856   1.0  426.00  1345.00   \n",
              "Goals                  532.0     1.853383     3.338009   0.0    0.00     1.00   \n",
              "Assists                532.0     1.287594     2.095191   0.0    0.00     0.00   \n",
              "Passes_Attempted       532.0   717.750000   631.372522   0.0  171.50   573.50   \n",
              "Perc_Passes_Completed  532.0    77.823872    13.011631  -1.0   73.50    79.20   \n",
              "Penalty_Goals          532.0     0.191729     0.850881   0.0    0.00     0.00   \n",
              "Penalty_Attempted      532.0     0.234962     0.975818   0.0    0.00     0.00   \n",
              "xG                     532.0     0.113289     0.148174   0.0    0.01     0.06   \n",
              "xA                     532.0     0.072650     0.090072   0.0    0.00     0.05   \n",
              "Yellow_Cards           532.0     2.114662     2.269094   0.0    0.00     2.00   \n",
              "Red_Cards              532.0     0.090226     0.293268   0.0    0.00     0.00   \n",
              "\n",
              "                            75%      max  \n",
              "Age                      29.000    38.00  \n",
              "Matches                  30.000    38.00  \n",
              "Starts                   27.000    38.00  \n",
              "Mins                   2303.500  3420.00  \n",
              "Goals                     2.000    23.00  \n",
              "Assists                   2.000    14.00  \n",
              "Passes_Attempted       1129.500  3214.00  \n",
              "Perc_Passes_Completed    84.625   100.00  \n",
              "Penalty_Goals             0.000     9.00  \n",
              "Penalty_Attempted         0.000    10.00  \n",
              "xG                        0.150     1.16  \n",
              "xA                        0.110     0.90  \n",
              "Yellow_Cards              3.000    12.00  \n",
              "Red_Cards                 0.000     2.00  "
            ],
            "text/html": [
              "\n",
              "  <div id=\"df-2227ce07-78ca-4461-847a-e4d84d88cdd6\">\n",
              "    <div class=\"colab-df-container\">\n",
              "      <div>\n",
              "<style scoped>\n",
              "    .dataframe tbody tr th:only-of-type {\n",
              "        vertical-align: middle;\n",
              "    }\n",
              "\n",
              "    .dataframe tbody tr th {\n",
              "        vertical-align: top;\n",
              "    }\n",
              "\n",
              "    .dataframe thead th {\n",
              "        text-align: right;\n",
              "    }\n",
              "</style>\n",
              "<table border=\"1\" class=\"dataframe\">\n",
              "  <thead>\n",
              "    <tr style=\"text-align: right;\">\n",
              "      <th></th>\n",
              "      <th>count</th>\n",
              "      <th>mean</th>\n",
              "      <th>std</th>\n",
              "      <th>min</th>\n",
              "      <th>25%</th>\n",
              "      <th>50%</th>\n",
              "      <th>75%</th>\n",
              "      <th>max</th>\n",
              "    </tr>\n",
              "  </thead>\n",
              "  <tbody>\n",
              "    <tr>\n",
              "      <th>Age</th>\n",
              "      <td>532.0</td>\n",
              "      <td>25.500000</td>\n",
              "      <td>4.319404</td>\n",
              "      <td>16.0</td>\n",
              "      <td>22.00</td>\n",
              "      <td>26.00</td>\n",
              "      <td>29.000</td>\n",
              "      <td>38.00</td>\n",
              "    </tr>\n",
              "    <tr>\n",
              "      <th>Matches</th>\n",
              "      <td>532.0</td>\n",
              "      <td>19.535714</td>\n",
              "      <td>11.840459</td>\n",
              "      <td>1.0</td>\n",
              "      <td>9.00</td>\n",
              "      <td>21.00</td>\n",
              "      <td>30.000</td>\n",
              "      <td>38.00</td>\n",
              "    </tr>\n",
              "    <tr>\n",
              "      <th>Starts</th>\n",
              "      <td>532.0</td>\n",
              "      <td>15.714286</td>\n",
              "      <td>11.921161</td>\n",
              "      <td>0.0</td>\n",
              "      <td>4.00</td>\n",
              "      <td>15.00</td>\n",
              "      <td>27.000</td>\n",
              "      <td>38.00</td>\n",
              "    </tr>\n",
              "    <tr>\n",
              "      <th>Mins</th>\n",
              "      <td>532.0</td>\n",
              "      <td>1411.443609</td>\n",
              "      <td>1043.171856</td>\n",
              "      <td>1.0</td>\n",
              "      <td>426.00</td>\n",
              "      <td>1345.00</td>\n",
              "      <td>2303.500</td>\n",
              "      <td>3420.00</td>\n",
              "    </tr>\n",
              "    <tr>\n",
              "      <th>Goals</th>\n",
              "      <td>532.0</td>\n",
              "      <td>1.853383</td>\n",
              "      <td>3.338009</td>\n",
              "      <td>0.0</td>\n",
              "      <td>0.00</td>\n",
              "      <td>1.00</td>\n",
              "      <td>2.000</td>\n",
              "      <td>23.00</td>\n",
              "    </tr>\n",
              "    <tr>\n",
              "      <th>Assists</th>\n",
              "      <td>532.0</td>\n",
              "      <td>1.287594</td>\n",
              "      <td>2.095191</td>\n",
              "      <td>0.0</td>\n",
              "      <td>0.00</td>\n",
              "      <td>0.00</td>\n",
              "      <td>2.000</td>\n",
              "      <td>14.00</td>\n",
              "    </tr>\n",
              "    <tr>\n",
              "      <th>Passes_Attempted</th>\n",
              "      <td>532.0</td>\n",
              "      <td>717.750000</td>\n",
              "      <td>631.372522</td>\n",
              "      <td>0.0</td>\n",
              "      <td>171.50</td>\n",
              "      <td>573.50</td>\n",
              "      <td>1129.500</td>\n",
              "      <td>3214.00</td>\n",
              "    </tr>\n",
              "    <tr>\n",
              "      <th>Perc_Passes_Completed</th>\n",
              "      <td>532.0</td>\n",
              "      <td>77.823872</td>\n",
              "      <td>13.011631</td>\n",
              "      <td>-1.0</td>\n",
              "      <td>73.50</td>\n",
              "      <td>79.20</td>\n",
              "      <td>84.625</td>\n",
              "      <td>100.00</td>\n",
              "    </tr>\n",
              "    <tr>\n",
              "      <th>Penalty_Goals</th>\n",
              "      <td>532.0</td>\n",
              "      <td>0.191729</td>\n",
              "      <td>0.850881</td>\n",
              "      <td>0.0</td>\n",
              "      <td>0.00</td>\n",
              "      <td>0.00</td>\n",
              "      <td>0.000</td>\n",
              "      <td>9.00</td>\n",
              "    </tr>\n",
              "    <tr>\n",
              "      <th>Penalty_Attempted</th>\n",
              "      <td>532.0</td>\n",
              "      <td>0.234962</td>\n",
              "      <td>0.975818</td>\n",
              "      <td>0.0</td>\n",
              "      <td>0.00</td>\n",
              "      <td>0.00</td>\n",
              "      <td>0.000</td>\n",
              "      <td>10.00</td>\n",
              "    </tr>\n",
              "    <tr>\n",
              "      <th>xG</th>\n",
              "      <td>532.0</td>\n",
              "      <td>0.113289</td>\n",
              "      <td>0.148174</td>\n",
              "      <td>0.0</td>\n",
              "      <td>0.01</td>\n",
              "      <td>0.06</td>\n",
              "      <td>0.150</td>\n",
              "      <td>1.16</td>\n",
              "    </tr>\n",
              "    <tr>\n",
              "      <th>xA</th>\n",
              "      <td>532.0</td>\n",
              "      <td>0.072650</td>\n",
              "      <td>0.090072</td>\n",
              "      <td>0.0</td>\n",
              "      <td>0.00</td>\n",
              "      <td>0.05</td>\n",
              "      <td>0.110</td>\n",
              "      <td>0.90</td>\n",
              "    </tr>\n",
              "    <tr>\n",
              "      <th>Yellow_Cards</th>\n",
              "      <td>532.0</td>\n",
              "      <td>2.114662</td>\n",
              "      <td>2.269094</td>\n",
              "      <td>0.0</td>\n",
              "      <td>0.00</td>\n",
              "      <td>2.00</td>\n",
              "      <td>3.000</td>\n",
              "      <td>12.00</td>\n",
              "    </tr>\n",
              "    <tr>\n",
              "      <th>Red_Cards</th>\n",
              "      <td>532.0</td>\n",
              "      <td>0.090226</td>\n",
              "      <td>0.293268</td>\n",
              "      <td>0.0</td>\n",
              "      <td>0.00</td>\n",
              "      <td>0.00</td>\n",
              "      <td>0.000</td>\n",
              "      <td>2.00</td>\n",
              "    </tr>\n",
              "  </tbody>\n",
              "</table>\n",
              "</div>\n",
              "      <button class=\"colab-df-convert\" onclick=\"convertToInteractive('df-2227ce07-78ca-4461-847a-e4d84d88cdd6')\"\n",
              "              title=\"Convert this dataframe to an interactive table.\"\n",
              "              style=\"display:none;\">\n",
              "        \n",
              "  <svg xmlns=\"http://www.w3.org/2000/svg\" height=\"24px\"viewBox=\"0 0 24 24\"\n",
              "       width=\"24px\">\n",
              "    <path d=\"M0 0h24v24H0V0z\" fill=\"none\"/>\n",
              "    <path d=\"M18.56 5.44l.94 2.06.94-2.06 2.06-.94-2.06-.94-.94-2.06-.94 2.06-2.06.94zm-11 1L8.5 8.5l.94-2.06 2.06-.94-2.06-.94L8.5 2.5l-.94 2.06-2.06.94zm10 10l.94 2.06.94-2.06 2.06-.94-2.06-.94-.94-2.06-.94 2.06-2.06.94z\"/><path d=\"M17.41 7.96l-1.37-1.37c-.4-.4-.92-.59-1.43-.59-.52 0-1.04.2-1.43.59L10.3 9.45l-7.72 7.72c-.78.78-.78 2.05 0 2.83L4 21.41c.39.39.9.59 1.41.59.51 0 1.02-.2 1.41-.59l7.78-7.78 2.81-2.81c.8-.78.8-2.07 0-2.86zM5.41 20L4 18.59l7.72-7.72 1.47 1.35L5.41 20z\"/>\n",
              "  </svg>\n",
              "      </button>\n",
              "      \n",
              "  <style>\n",
              "    .colab-df-container {\n",
              "      display:flex;\n",
              "      flex-wrap:wrap;\n",
              "      gap: 12px;\n",
              "    }\n",
              "\n",
              "    .colab-df-convert {\n",
              "      background-color: #E8F0FE;\n",
              "      border: none;\n",
              "      border-radius: 50%;\n",
              "      cursor: pointer;\n",
              "      display: none;\n",
              "      fill: #1967D2;\n",
              "      height: 32px;\n",
              "      padding: 0 0 0 0;\n",
              "      width: 32px;\n",
              "    }\n",
              "\n",
              "    .colab-df-convert:hover {\n",
              "      background-color: #E2EBFA;\n",
              "      box-shadow: 0px 1px 2px rgba(60, 64, 67, 0.3), 0px 1px 3px 1px rgba(60, 64, 67, 0.15);\n",
              "      fill: #174EA6;\n",
              "    }\n",
              "\n",
              "    [theme=dark] .colab-df-convert {\n",
              "      background-color: #3B4455;\n",
              "      fill: #D2E3FC;\n",
              "    }\n",
              "\n",
              "    [theme=dark] .colab-df-convert:hover {\n",
              "      background-color: #434B5C;\n",
              "      box-shadow: 0px 1px 3px 1px rgba(0, 0, 0, 0.15);\n",
              "      filter: drop-shadow(0px 1px 2px rgba(0, 0, 0, 0.3));\n",
              "      fill: #FFFFFF;\n",
              "    }\n",
              "  </style>\n",
              "\n",
              "      <script>\n",
              "        const buttonEl =\n",
              "          document.querySelector('#df-2227ce07-78ca-4461-847a-e4d84d88cdd6 button.colab-df-convert');\n",
              "        buttonEl.style.display =\n",
              "          google.colab.kernel.accessAllowed ? 'block' : 'none';\n",
              "\n",
              "        async function convertToInteractive(key) {\n",
              "          const element = document.querySelector('#df-2227ce07-78ca-4461-847a-e4d84d88cdd6');\n",
              "          const dataTable =\n",
              "            await google.colab.kernel.invokeFunction('convertToInteractive',\n",
              "                                                     [key], {});\n",
              "          if (!dataTable) return;\n",
              "\n",
              "          const docLinkHtml = 'Like what you see? Visit the ' +\n",
              "            '<a target=\"_blank\" href=https://colab.research.google.com/notebooks/data_table.ipynb>data table notebook</a>'\n",
              "            + ' to learn more about interactive tables.';\n",
              "          element.innerHTML = '';\n",
              "          dataTable['output_type'] = 'display_data';\n",
              "          await google.colab.output.renderOutput(dataTable, element);\n",
              "          const docLink = document.createElement('div');\n",
              "          docLink.innerHTML = docLinkHtml;\n",
              "          element.appendChild(docLink);\n",
              "        }\n",
              "      </script>\n",
              "    </div>\n",
              "  </div>\n",
              "  "
            ]
          },
          "metadata": {},
          "execution_count": 9
        }
      ],
      "source": [
        "#Resumen de Datos estadisticos ---- Solo columnas numéricas\n",
        "epl.describe().T\n"
      ]
    },
    {
      "cell_type": "code",
      "execution_count": null,
      "metadata": {
        "colab": {
          "base_uri": "https://localhost:8080/"
        },
        "id": "3arfK7tq9mQk",
        "outputId": "fdd861bc-d53b-476f-dc88-057706d6ef08"
      },
      "outputs": [
        {
          "output_type": "execute_result",
          "data": {
            "text/plain": [
              "Name                     0\n",
              "Club                     0\n",
              "Nationality              0\n",
              "Position                 0\n",
              "Age                      0\n",
              "Matches                  0\n",
              "Starts                   0\n",
              "Mins                     0\n",
              "Goals                    0\n",
              "Assists                  0\n",
              "Passes_Attempted         0\n",
              "Perc_Passes_Completed    0\n",
              "Penalty_Goals            0\n",
              "Penalty_Attempted        0\n",
              "xG                       0\n",
              "xA                       0\n",
              "Yellow_Cards             0\n",
              "Red_Cards                0\n",
              "dtype: int64"
            ]
          },
          "metadata": {},
          "execution_count": 10
        }
      ],
      "source": [
        "#Número total de valores nulos\n",
        "epl.isna().sum()\n"
      ]
    },
    {
      "cell_type": "code",
      "source": [
        "epl.columns"
      ],
      "metadata": {
        "colab": {
          "base_uri": "https://localhost:8080/"
        },
        "id": "o6eBANJZAsgD",
        "outputId": "d86fb931-cf2a-43e7-a17f-9af80eafc5e1"
      },
      "execution_count": null,
      "outputs": [
        {
          "output_type": "execute_result",
          "data": {
            "text/plain": [
              "Index(['Name', 'Club', 'Nationality', 'Position', 'Age', 'Matches', 'Starts',\n",
              "       'Mins', 'Goals', 'Assists', 'Passes_Attempted', 'Perc_Passes_Completed',\n",
              "       'Penalty_Goals', 'Penalty_Attempted', 'xG', 'xA', 'Yellow_Cards',\n",
              "       'Red_Cards'],\n",
              "      dtype='object')"
            ]
          },
          "metadata": {},
          "execution_count": 11
        }
      ]
    },
    {
      "cell_type": "markdown",
      "metadata": {
        "id": "_2Wowfbr9mQk"
      },
      "source": [
        "Creamos 2 columnas mas **Minutos por partido** y ***Goles por partido***."
      ]
    },
    {
      "cell_type": "code",
      "execution_count": null,
      "metadata": {
        "id": "as8yhxKJ9mQk"
      },
      "outputs": [],
      "source": [
        "# creacion de 2 columnas\n",
        "epl['MinsPerMatch'] = (epl['Mins'] / epl['Matches']).astype(int)\n",
        "epl['GoalsPerMatch'] = (epl['Goals'] / epl['Matches']).astype(float)"
      ]
    },
    {
      "cell_type": "code",
      "execution_count": null,
      "metadata": {
        "colab": {
          "base_uri": "https://localhost:8080/",
          "height": 357
        },
        "id": "Hg1QbAYG9mQk",
        "outputId": "7a8729dd-cf65-4d73-d428-c5c4a4562613"
      },
      "outputs": [
        {
          "output_type": "execute_result",
          "data": {
            "text/plain": [
              "            Name     Club Nationality Position  Age  Matches  Starts  Mins  \\\n",
              "0    Mason Mount  Chelsea         ENG    MF,FW   21       36      32  2890   \n",
              "1  Edouard Mendy  Chelsea         SEN       GK   28       31      31  2745   \n",
              "2    Timo Werner  Chelsea         GER       FW   24       35      29  2602   \n",
              "3   Ben Chilwell  Chelsea         ENG       DF   23       27      27  2286   \n",
              "4    Reece James  Chelsea         ENG       DF   20       32      25  2373   \n",
              "\n",
              "   Goals  Assists  Passes_Attempted  Perc_Passes_Completed  Penalty_Goals  \\\n",
              "0      6        5              1881                   82.3              1   \n",
              "1      0        0              1007                   84.6              0   \n",
              "2      6        8               826                   77.2              0   \n",
              "3      3        5              1806                   78.6              0   \n",
              "4      1        2              1987                   85.0              0   \n",
              "\n",
              "   Penalty_Attempted    xG    xA  Yellow_Cards  Red_Cards  MinsPerMatch  \\\n",
              "0                  1  0.21  0.24             2          0            80   \n",
              "1                  0  0.00  0.00             2          0            88   \n",
              "2                  0  0.41  0.21             2          0            74   \n",
              "3                  0  0.10  0.11             3          0            84   \n",
              "4                  0  0.06  0.12             3          0            74   \n",
              "\n",
              "   GoalsPerMatch  \n",
              "0       0.166667  \n",
              "1       0.000000  \n",
              "2       0.171429  \n",
              "3       0.111111  \n",
              "4       0.031250  "
            ],
            "text/html": [
              "\n",
              "  <div id=\"df-b0f5a5b4-1322-4139-8591-8aa10a2b20f7\">\n",
              "    <div class=\"colab-df-container\">\n",
              "      <div>\n",
              "<style scoped>\n",
              "    .dataframe tbody tr th:only-of-type {\n",
              "        vertical-align: middle;\n",
              "    }\n",
              "\n",
              "    .dataframe tbody tr th {\n",
              "        vertical-align: top;\n",
              "    }\n",
              "\n",
              "    .dataframe thead th {\n",
              "        text-align: right;\n",
              "    }\n",
              "</style>\n",
              "<table border=\"1\" class=\"dataframe\">\n",
              "  <thead>\n",
              "    <tr style=\"text-align: right;\">\n",
              "      <th></th>\n",
              "      <th>Name</th>\n",
              "      <th>Club</th>\n",
              "      <th>Nationality</th>\n",
              "      <th>Position</th>\n",
              "      <th>Age</th>\n",
              "      <th>Matches</th>\n",
              "      <th>Starts</th>\n",
              "      <th>Mins</th>\n",
              "      <th>Goals</th>\n",
              "      <th>Assists</th>\n",
              "      <th>Passes_Attempted</th>\n",
              "      <th>Perc_Passes_Completed</th>\n",
              "      <th>Penalty_Goals</th>\n",
              "      <th>Penalty_Attempted</th>\n",
              "      <th>xG</th>\n",
              "      <th>xA</th>\n",
              "      <th>Yellow_Cards</th>\n",
              "      <th>Red_Cards</th>\n",
              "      <th>MinsPerMatch</th>\n",
              "      <th>GoalsPerMatch</th>\n",
              "    </tr>\n",
              "  </thead>\n",
              "  <tbody>\n",
              "    <tr>\n",
              "      <th>0</th>\n",
              "      <td>Mason Mount</td>\n",
              "      <td>Chelsea</td>\n",
              "      <td>ENG</td>\n",
              "      <td>MF,FW</td>\n",
              "      <td>21</td>\n",
              "      <td>36</td>\n",
              "      <td>32</td>\n",
              "      <td>2890</td>\n",
              "      <td>6</td>\n",
              "      <td>5</td>\n",
              "      <td>1881</td>\n",
              "      <td>82.3</td>\n",
              "      <td>1</td>\n",
              "      <td>1</td>\n",
              "      <td>0.21</td>\n",
              "      <td>0.24</td>\n",
              "      <td>2</td>\n",
              "      <td>0</td>\n",
              "      <td>80</td>\n",
              "      <td>0.166667</td>\n",
              "    </tr>\n",
              "    <tr>\n",
              "      <th>1</th>\n",
              "      <td>Edouard Mendy</td>\n",
              "      <td>Chelsea</td>\n",
              "      <td>SEN</td>\n",
              "      <td>GK</td>\n",
              "      <td>28</td>\n",
              "      <td>31</td>\n",
              "      <td>31</td>\n",
              "      <td>2745</td>\n",
              "      <td>0</td>\n",
              "      <td>0</td>\n",
              "      <td>1007</td>\n",
              "      <td>84.6</td>\n",
              "      <td>0</td>\n",
              "      <td>0</td>\n",
              "      <td>0.00</td>\n",
              "      <td>0.00</td>\n",
              "      <td>2</td>\n",
              "      <td>0</td>\n",
              "      <td>88</td>\n",
              "      <td>0.000000</td>\n",
              "    </tr>\n",
              "    <tr>\n",
              "      <th>2</th>\n",
              "      <td>Timo Werner</td>\n",
              "      <td>Chelsea</td>\n",
              "      <td>GER</td>\n",
              "      <td>FW</td>\n",
              "      <td>24</td>\n",
              "      <td>35</td>\n",
              "      <td>29</td>\n",
              "      <td>2602</td>\n",
              "      <td>6</td>\n",
              "      <td>8</td>\n",
              "      <td>826</td>\n",
              "      <td>77.2</td>\n",
              "      <td>0</td>\n",
              "      <td>0</td>\n",
              "      <td>0.41</td>\n",
              "      <td>0.21</td>\n",
              "      <td>2</td>\n",
              "      <td>0</td>\n",
              "      <td>74</td>\n",
              "      <td>0.171429</td>\n",
              "    </tr>\n",
              "    <tr>\n",
              "      <th>3</th>\n",
              "      <td>Ben Chilwell</td>\n",
              "      <td>Chelsea</td>\n",
              "      <td>ENG</td>\n",
              "      <td>DF</td>\n",
              "      <td>23</td>\n",
              "      <td>27</td>\n",
              "      <td>27</td>\n",
              "      <td>2286</td>\n",
              "      <td>3</td>\n",
              "      <td>5</td>\n",
              "      <td>1806</td>\n",
              "      <td>78.6</td>\n",
              "      <td>0</td>\n",
              "      <td>0</td>\n",
              "      <td>0.10</td>\n",
              "      <td>0.11</td>\n",
              "      <td>3</td>\n",
              "      <td>0</td>\n",
              "      <td>84</td>\n",
              "      <td>0.111111</td>\n",
              "    </tr>\n",
              "    <tr>\n",
              "      <th>4</th>\n",
              "      <td>Reece James</td>\n",
              "      <td>Chelsea</td>\n",
              "      <td>ENG</td>\n",
              "      <td>DF</td>\n",
              "      <td>20</td>\n",
              "      <td>32</td>\n",
              "      <td>25</td>\n",
              "      <td>2373</td>\n",
              "      <td>1</td>\n",
              "      <td>2</td>\n",
              "      <td>1987</td>\n",
              "      <td>85.0</td>\n",
              "      <td>0</td>\n",
              "      <td>0</td>\n",
              "      <td>0.06</td>\n",
              "      <td>0.12</td>\n",
              "      <td>3</td>\n",
              "      <td>0</td>\n",
              "      <td>74</td>\n",
              "      <td>0.031250</td>\n",
              "    </tr>\n",
              "  </tbody>\n",
              "</table>\n",
              "</div>\n",
              "      <button class=\"colab-df-convert\" onclick=\"convertToInteractive('df-b0f5a5b4-1322-4139-8591-8aa10a2b20f7')\"\n",
              "              title=\"Convert this dataframe to an interactive table.\"\n",
              "              style=\"display:none;\">\n",
              "        \n",
              "  <svg xmlns=\"http://www.w3.org/2000/svg\" height=\"24px\"viewBox=\"0 0 24 24\"\n",
              "       width=\"24px\">\n",
              "    <path d=\"M0 0h24v24H0V0z\" fill=\"none\"/>\n",
              "    <path d=\"M18.56 5.44l.94 2.06.94-2.06 2.06-.94-2.06-.94-.94-2.06-.94 2.06-2.06.94zm-11 1L8.5 8.5l.94-2.06 2.06-.94-2.06-.94L8.5 2.5l-.94 2.06-2.06.94zm10 10l.94 2.06.94-2.06 2.06-.94-2.06-.94-.94-2.06-.94 2.06-2.06.94z\"/><path d=\"M17.41 7.96l-1.37-1.37c-.4-.4-.92-.59-1.43-.59-.52 0-1.04.2-1.43.59L10.3 9.45l-7.72 7.72c-.78.78-.78 2.05 0 2.83L4 21.41c.39.39.9.59 1.41.59.51 0 1.02-.2 1.41-.59l7.78-7.78 2.81-2.81c.8-.78.8-2.07 0-2.86zM5.41 20L4 18.59l7.72-7.72 1.47 1.35L5.41 20z\"/>\n",
              "  </svg>\n",
              "      </button>\n",
              "      \n",
              "  <style>\n",
              "    .colab-df-container {\n",
              "      display:flex;\n",
              "      flex-wrap:wrap;\n",
              "      gap: 12px;\n",
              "    }\n",
              "\n",
              "    .colab-df-convert {\n",
              "      background-color: #E8F0FE;\n",
              "      border: none;\n",
              "      border-radius: 50%;\n",
              "      cursor: pointer;\n",
              "      display: none;\n",
              "      fill: #1967D2;\n",
              "      height: 32px;\n",
              "      padding: 0 0 0 0;\n",
              "      width: 32px;\n",
              "    }\n",
              "\n",
              "    .colab-df-convert:hover {\n",
              "      background-color: #E2EBFA;\n",
              "      box-shadow: 0px 1px 2px rgba(60, 64, 67, 0.3), 0px 1px 3px 1px rgba(60, 64, 67, 0.15);\n",
              "      fill: #174EA6;\n",
              "    }\n",
              "\n",
              "    [theme=dark] .colab-df-convert {\n",
              "      background-color: #3B4455;\n",
              "      fill: #D2E3FC;\n",
              "    }\n",
              "\n",
              "    [theme=dark] .colab-df-convert:hover {\n",
              "      background-color: #434B5C;\n",
              "      box-shadow: 0px 1px 3px 1px rgba(0, 0, 0, 0.15);\n",
              "      filter: drop-shadow(0px 1px 2px rgba(0, 0, 0, 0.3));\n",
              "      fill: #FFFFFF;\n",
              "    }\n",
              "  </style>\n",
              "\n",
              "      <script>\n",
              "        const buttonEl =\n",
              "          document.querySelector('#df-b0f5a5b4-1322-4139-8591-8aa10a2b20f7 button.colab-df-convert');\n",
              "        buttonEl.style.display =\n",
              "          google.colab.kernel.accessAllowed ? 'block' : 'none';\n",
              "\n",
              "        async function convertToInteractive(key) {\n",
              "          const element = document.querySelector('#df-b0f5a5b4-1322-4139-8591-8aa10a2b20f7');\n",
              "          const dataTable =\n",
              "            await google.colab.kernel.invokeFunction('convertToInteractive',\n",
              "                                                     [key], {});\n",
              "          if (!dataTable) return;\n",
              "\n",
              "          const docLinkHtml = 'Like what you see? Visit the ' +\n",
              "            '<a target=\"_blank\" href=https://colab.research.google.com/notebooks/data_table.ipynb>data table notebook</a>'\n",
              "            + ' to learn more about interactive tables.';\n",
              "          element.innerHTML = '';\n",
              "          dataTable['output_type'] = 'display_data';\n",
              "          await google.colab.output.renderOutput(dataTable, element);\n",
              "          const docLink = document.createElement('div');\n",
              "          docLink.innerHTML = docLinkHtml;\n",
              "          element.appendChild(docLink);\n",
              "        }\n",
              "      </script>\n",
              "    </div>\n",
              "  </div>\n",
              "  "
            ]
          },
          "metadata": {},
          "execution_count": 13
        }
      ],
      "source": [
        "#visualizamos las nuevas columnas\n",
        "epl.head()\n"
      ]
    },
    {
      "cell_type": "code",
      "source": [
        "epl.shape"
      ],
      "metadata": {
        "colab": {
          "base_uri": "https://localhost:8080/"
        },
        "id": "SodTeXk5BjIS",
        "outputId": "235d9d18-ada1-4a71-9519-9b8ae0922efe"
      },
      "execution_count": null,
      "outputs": [
        {
          "output_type": "execute_result",
          "data": {
            "text/plain": [
              "(532, 20)"
            ]
          },
          "metadata": {},
          "execution_count": 14
        }
      ]
    },
    {
      "cell_type": "code",
      "execution_count": null,
      "metadata": {
        "colab": {
          "base_uri": "https://localhost:8080/"
        },
        "id": "3n7ud-4E9mQk",
        "outputId": "9df9309c-f2cc-4303-812c-b256526135e2"
      },
      "outputs": [
        {
          "output_type": "execute_result",
          "data": {
            "text/plain": [
              "986"
            ]
          },
          "metadata": {},
          "execution_count": 15
        }
      ],
      "source": [
        "#Total de goles ---- temporada EPL 2020-2021 ultima temporada\n",
        "Total_Goals = epl['Goals'].sum()\n",
        "Total_Goals\n"
      ]
    },
    {
      "cell_type": "code",
      "execution_count": null,
      "metadata": {
        "colab": {
          "base_uri": "https://localhost:8080/"
        },
        "id": "MXGgsCGg9mQk",
        "outputId": "72bb3fb2-4c40-406b-ef08-a9bd260613aa"
      },
      "outputs": [
        {
          "output_type": "execute_result",
          "data": {
            "text/plain": [
              "102"
            ]
          },
          "metadata": {},
          "execution_count": 16
        }
      ],
      "source": [
        "#Goles x Penales ---- temporada EPL 2020-2021 ultima temporada\n",
        "Total_PenaltyGoals = epl['Penalty_Goals'].sum()\n",
        "Total_PenaltyGoals"
      ]
    },
    {
      "cell_type": "code",
      "execution_count": null,
      "metadata": {
        "colab": {
          "base_uri": "https://localhost:8080/"
        },
        "id": "BybpESMS9mQl",
        "outputId": "cfffbd21-da45-48c7-e0b6-06aa06de8511"
      },
      "outputs": [
        {
          "output_type": "execute_result",
          "data": {
            "text/plain": [
              "125"
            ]
          },
          "metadata": {},
          "execution_count": 17
        }
      ],
      "source": [
        "# Total Penales ---- temporada EPL 2020-2021 ultima temporada\n",
        "Total_PenaltyAttempts = epl['Penalty_Attempted'].sum()\n",
        "Total_PenaltyAttempts"
      ]
    },
    {
      "cell_type": "markdown",
      "metadata": {
        "id": "07NGmfeq9mQl"
      },
      "source": [
        "### Gráfico Pie chart **Penales Marcados** y **Penales Atajados**."
      ]
    },
    {
      "cell_type": "code",
      "execution_count": null,
      "metadata": {
        "colab": {
          "base_uri": "https://localhost:8080/",
          "height": 357
        },
        "id": "_H4rjn9M9mQl",
        "outputId": "5efa5139-1585-4d59-9bac-83b6c66d37c9"
      },
      "outputs": [
        {
          "output_type": "display_data",
          "data": {
            "text/plain": [
              "<Figure size 936x432 with 1 Axes>"
            ],
            "image/png": "[encoded data removed]"
          },
          "metadata": {}
        }
      ],
      "source": [
        "# Gráficos de penales\n",
        "plt.figure(figsize=(13,6))\n",
        "pl_not_scored = epl['Penalty_Attempted'].sum() - Total_PenaltyGoals\n",
        "\n",
        "data = [pl_not_scored, Total_PenaltyGoals]\n",
        "nom = ['Penales Atajados', 'Penales Marcados']\n",
        "colores = sns.color_palette('Set2')\n",
        "\n",
        "plt.pie(data, labels = nom, colors = colores, autopct = '%.0f%%')\n",
        "plt.show()"
      ]
    },
    {
      "cell_type": "code",
      "execution_count": null,
      "metadata": {
        "colab": {
          "base_uri": "https://localhost:8080/"
        },
        "id": "s2TJ5Nj49mQl",
        "outputId": "12b3de87-7905-4320-c774-a39c6e7a5770"
      },
      "outputs": [
        {
          "output_type": "execute_result",
          "data": {
            "text/plain": [
              "array(['MF,FW', 'GK', 'FW', 'DF', 'MF', 'FW,MF', 'FW,DF', 'DF,MF',\n",
              "       'MF,DF', 'DF,FW'], dtype=object)"
            ]
          },
          "metadata": {},
          "execution_count": 19
        }
      ],
      "source": [
        "# Posiciones únicas de cada jugador \n",
        "# Portero (GK), defensor (DF), centrocampista (MF) delantero (FW)\n",
        "epl['Position'].unique()\n",
        "\n"
      ]
    },
    {
      "cell_type": "code",
      "execution_count": null,
      "metadata": {
        "colab": {
          "base_uri": "https://localhost:8080/",
          "height": 679
        },
        "id": "OL-hAEfc9mQl",
        "outputId": "62fe471c-772c-42dc-98dc-cb0fdb00f333"
      },
      "outputs": [
        {
          "output_type": "execute_result",
          "data": {
            "text/plain": [
              "                   Name              Club Nationality Position  Age  Matches  \\\n",
              "2           Timo Werner           Chelsea         GER       FW   24       35   \n",
              "16        Tammy Abraham           Chelsea         ENG       FW   22       22   \n",
              "19       Olivier Giroud           Chelsea         FRA       FW   33       17   \n",
              "23   Ruben Loftus-Cheek           Chelsea         ENG       FW   24        1   \n",
              "30      Raheem Sterling   Manchester City         ENG       FW   25       31   \n",
              "..                  ...               ...         ...      ...  ...      ...   \n",
              "516        Oliver Burke  Sheffield United         SCO       FW   23       25   \n",
              "518     Oliver McBurnie  Sheffield United         SCO       FW   24       23   \n",
              "519      Rhian Brewster  Sheffield United         ENG       FW   20       27   \n",
              "523         Billy Sharp  Sheffield United         ENG       FW   34       16   \n",
              "526     Daniel Jebbison  Sheffield United         ENG       FW   17        4   \n",
              "\n",
              "     Starts  Mins  Goals  Assists  Passes_Attempted  Perc_Passes_Completed  \\\n",
              "2        29  2602      6        8               826                   77.2   \n",
              "16       12  1040      6        1               218                   68.3   \n",
              "19        8   748      4        0               217                   74.2   \n",
              "23        1    60      0        0                16                   68.8   \n",
              "30       28  2536     10        7              1127                   85.4   \n",
              "..      ...   ...    ...      ...               ...                    ...   \n",
              "516      14  1269      1        1               262                   70.6   \n",
              "518      12  1324      1        0               426                   62.9   \n",
              "519      12  1128      0        0               225                   69.3   \n",
              "523       7   735      3        0               123                   69.9   \n",
              "526       3   284      1        0                34                   70.6   \n",
              "\n",
              "     Penalty_Goals  Penalty_Attempted    xG    xA  Yellow_Cards  Red_Cards  \\\n",
              "2                0                  0  0.41  0.21             2          0   \n",
              "16               0                  0  0.56  0.07             0          0   \n",
              "19               0                  0  0.58  0.09             1          0   \n",
              "23               0                  0  0.00  0.00             0          0   \n",
              "30               0                  1  0.43  0.17             4          0   \n",
              "..             ...                ...   ...   ...           ...        ...   \n",
              "516              0                  0  0.17  0.13             2          0   \n",
              "518              0                  0  0.21  0.07             2          0   \n",
              "519              0                  0  0.14  0.13             1          0   \n",
              "523              2                  2  0.33  0.07             1          0   \n",
              "526              0                  0  0.50  0.01             0          0   \n",
              "\n",
              "     MinsPerMatch  GoalsPerMatch  \n",
              "2              74       0.171429  \n",
              "16             47       0.272727  \n",
              "19             44       0.235294  \n",
              "23             60       0.000000  \n",
              "30             81       0.322581  \n",
              "..            ...            ...  \n",
              "516            50       0.040000  \n",
              "518            57       0.043478  \n",
              "519            41       0.000000  \n",
              "523            45       0.187500  \n",
              "526            71       0.250000  \n",
              "\n",
              "[81 rows x 20 columns]"
            ],
            "text/html": [
              "\n",
              "  <div id=\"df-c07157fe-bc14-4b42-867c-8df4d8f5698e\">\n",
              "    <div class=\"colab-df-container\">\n",
              "      <div>\n",
              "<style scoped>\n",
              "    .dataframe tbody tr th:only-of-type {\n",
              "        vertical-align: middle;\n",
              "    }\n",
              "\n",
              "    .dataframe tbody tr th {\n",
              "        vertical-align: top;\n",
              "    }\n",
              "\n",
              "    .dataframe thead th {\n",
              "        text-align: right;\n",
              "    }\n",
              "</style>\n",
              "<table border=\"1\" class=\"dataframe\">\n",
              "  <thead>\n",
              "    <tr style=\"text-align: right;\">\n",
              "      <th></th>\n",
              "      <th>Name</th>\n",
              "      <th>Club</th>\n",
              "      <th>Nationality</th>\n",
              "      <th>Position</th>\n",
              "      <th>Age</th>\n",
              "      <th>Matches</th>\n",
              "      <th>Starts</th>\n",
              "      <th>Mins</th>\n",
              "      <th>Goals</th>\n",
              "      <th>Assists</th>\n",
              "      <th>Passes_Attempted</th>\n",
              "      <th>Perc_Passes_Completed</th>\n",
              "      <th>Penalty_Goals</th>\n",
              "      <th>Penalty_Attempted</th>\n",
              "      <th>xG</th>\n",
              "      <th>xA</th>\n",
              "      <th>Yellow_Cards</th>\n",
              "      <th>Red_Cards</th>\n",
              "      <th>MinsPerMatch</th>\n",
              "      <th>GoalsPerMatch</th>\n",
              "    </tr>\n",
              "  </thead>\n",
              "  <tbody>\n",
              "    <tr>\n",
              "      <th>2</th>\n",
              "      <td>Timo Werner</td>\n",
              "      <td>Chelsea</td>\n",
              "      <td>GER</td>\n",
              "      <td>FW</td>\n",
              "      <td>24</td>\n",
              "      <td>35</td>\n",
              "      <td>29</td>\n",
              "      <td>2602</td>\n",
              "      <td>6</td>\n",
              "      <td>8</td>\n",
              "      <td>826</td>\n",
              "      <td>77.2</td>\n",
              "      <td>0</td>\n",
              "      <td>0</td>\n",
              "      <td>0.41</td>\n",
              "      <td>0.21</td>\n",
              "      <td>2</td>\n",
              "      <td>0</td>\n",
              "      <td>74</td>\n",
              "      <td>0.171429</td>\n",
              "    </tr>\n",
              "    <tr>\n",
              "      <th>16</th>\n",
              "      <td>Tammy Abraham</td>\n",
              "      <td>Chelsea</td>\n",
              "      <td>ENG</td>\n",
              "      <td>FW</td>\n",
              "      <td>22</td>\n",
              "      <td>22</td>\n",
              "      <td>12</td>\n",
              "      <td>1040</td>\n",
              "      <td>6</td>\n",
              "      <td>1</td>\n",
              "      <td>218</td>\n",
              "      <td>68.3</td>\n",
              "      <td>0</td>\n",
              "      <td>0</td>\n",
              "      <td>0.56</td>\n",
              "      <td>0.07</td>\n",
              "      <td>0</td>\n",
              "      <td>0</td>\n",
              "      <td>47</td>\n",
              "      <td>0.272727</td>\n",
              "    </tr>\n",
              "    <tr>\n",
              "      <th>19</th>\n",
              "      <td>Olivier Giroud</td>\n",
              "      <td>Chelsea</td>\n",
              "      <td>FRA</td>\n",
              "      <td>FW</td>\n",
              "      <td>33</td>\n",
              "      <td>17</td>\n",
              "      <td>8</td>\n",
              "      <td>748</td>\n",
              "      <td>4</td>\n",
              "      <td>0</td>\n",
              "      <td>217</td>\n",
              "      <td>74.2</td>\n",
              "      <td>0</td>\n",
              "      <td>0</td>\n",
              "      <td>0.58</td>\n",
              "      <td>0.09</td>\n",
              "      <td>1</td>\n",
              "      <td>0</td>\n",
              "      <td>44</td>\n",
              "      <td>0.235294</td>\n",
              "    </tr>\n",
              "    <tr>\n",
              "      <th>23</th>\n",
              "      <td>Ruben Loftus-Cheek</td>\n",
              "      <td>Chelsea</td>\n",
              "      <td>ENG</td>\n",
              "      <td>FW</td>\n",
              "      <td>24</td>\n",
              "      <td>1</td>\n",
              "      <td>1</td>\n",
              "      <td>60</td>\n",
              "      <td>0</td>\n",
              "      <td>0</td>\n",
              "      <td>16</td>\n",
              "      <td>68.8</td>\n",
              "      <td>0</td>\n",
              "      <td>0</td>\n",
              "      <td>0.00</td>\n",
              "      <td>0.00</td>\n",
              "      <td>0</td>\n",
              "      <td>0</td>\n",
              "      <td>60</td>\n",
              "      <td>0.000000</td>\n",
              "    </tr>\n",
              "    <tr>\n",
              "      <th>30</th>\n",
              "      <td>Raheem Sterling</td>\n",
              "      <td>Manchester City</td>\n",
              "      <td>ENG</td>\n",
              "      <td>FW</td>\n",
              "      <td>25</td>\n",
              "      <td>31</td>\n",
              "      <td>28</td>\n",
              "      <td>2536</td>\n",
              "      <td>10</td>\n",
              "      <td>7</td>\n",
              "      <td>1127</td>\n",
              "      <td>85.4</td>\n",
              "      <td>0</td>\n",
              "      <td>1</td>\n",
              "      <td>0.43</td>\n",
              "      <td>0.17</td>\n",
              "      <td>4</td>\n",
              "      <td>0</td>\n",
              "      <td>81</td>\n",
              "      <td>0.322581</td>\n",
              "    </tr>\n",
              "    <tr>\n",
              "      <th>...</th>\n",
              "      <td>...</td>\n",
              "      <td>...</td>\n",
              "      <td>...</td>\n",
              "      <td>...</td>\n",
              "      <td>...</td>\n",
              "      <td>...</td>\n",
              "      <td>...</td>\n",
              "      <td>...</td>\n",
              "      <td>...</td>\n",
              "      <td>...</td>\n",
              "      <td>...</td>\n",
              "      <td>...</td>\n",
              "      <td>...</td>\n",
              "      <td>...</td>\n",
              "      <td>...</td>\n",
              "      <td>...</td>\n",
              "      <td>...</td>\n",
              "      <td>...</td>\n",
              "      <td>...</td>\n",
              "      <td>...</td>\n",
              "    </tr>\n",
              "    <tr>\n",
              "      <th>516</th>\n",
              "      <td>Oliver Burke</td>\n",
              "      <td>Sheffield United</td>\n",
              "      <td>SCO</td>\n",
              "      <td>FW</td>\n",
              "      <td>23</td>\n",
              "      <td>25</td>\n",
              "      <td>14</td>\n",
              "      <td>1269</td>\n",
              "      <td>1</td>\n",
              "      <td>1</td>\n",
              "      <td>262</td>\n",
              "      <td>70.6</td>\n",
              "      <td>0</td>\n",
              "      <td>0</td>\n",
              "      <td>0.17</td>\n",
              "      <td>0.13</td>\n",
              "      <td>2</td>\n",
              "      <td>0</td>\n",
              "      <td>50</td>\n",
              "      <td>0.040000</td>\n",
              "    </tr>\n",
              "    <tr>\n",
              "      <th>518</th>\n",
              "      <td>Oliver McBurnie</td>\n",
              "      <td>Sheffield United</td>\n",
              "      <td>SCO</td>\n",
              "      <td>FW</td>\n",
              "      <td>24</td>\n",
              "      <td>23</td>\n",
              "      <td>12</td>\n",
              "      <td>1324</td>\n",
              "      <td>1</td>\n",
              "      <td>0</td>\n",
              "      <td>426</td>\n",
              "      <td>62.9</td>\n",
              "      <td>0</td>\n",
              "      <td>0</td>\n",
              "      <td>0.21</td>\n",
              "      <td>0.07</td>\n",
              "      <td>2</td>\n",
              "      <td>0</td>\n",
              "      <td>57</td>\n",
              "      <td>0.043478</td>\n",
              "    </tr>\n",
              "    <tr>\n",
              "      <th>519</th>\n",
              "      <td>Rhian Brewster</td>\n",
              "      <td>Sheffield United</td>\n",
              "      <td>ENG</td>\n",
              "      <td>FW</td>\n",
              "      <td>20</td>\n",
              "      <td>27</td>\n",
              "      <td>12</td>\n",
              "      <td>1128</td>\n",
              "      <td>0</td>\n",
              "      <td>0</td>\n",
              "      <td>225</td>\n",
              "      <td>69.3</td>\n",
              "      <td>0</td>\n",
              "      <td>0</td>\n",
              "      <td>0.14</td>\n",
              "      <td>0.13</td>\n",
              "      <td>1</td>\n",
              "      <td>0</td>\n",
              "      <td>41</td>\n",
              "      <td>0.000000</td>\n",
              "    </tr>\n",
              "    <tr>\n",
              "      <th>523</th>\n",
              "      <td>Billy Sharp</td>\n",
              "      <td>Sheffield United</td>\n",
              "      <td>ENG</td>\n",
              "      <td>FW</td>\n",
              "      <td>34</td>\n",
              "      <td>16</td>\n",
              "      <td>7</td>\n",
              "      <td>735</td>\n",
              "      <td>3</td>\n",
              "      <td>0</td>\n",
              "      <td>123</td>\n",
              "      <td>69.9</td>\n",
              "      <td>2</td>\n",
              "      <td>2</td>\n",
              "      <td>0.33</td>\n",
              "      <td>0.07</td>\n",
              "      <td>1</td>\n",
              "      <td>0</td>\n",
              "      <td>45</td>\n",
              "      <td>0.187500</td>\n",
              "    </tr>\n",
              "    <tr>\n",
              "      <th>526</th>\n",
              "      <td>Daniel Jebbison</td>\n",
              "      <td>Sheffield United</td>\n",
              "      <td>ENG</td>\n",
              "      <td>FW</td>\n",
              "      <td>17</td>\n",
              "      <td>4</td>\n",
              "      <td>3</td>\n",
              "      <td>284</td>\n",
              "      <td>1</td>\n",
              "      <td>0</td>\n",
              "      <td>34</td>\n",
              "      <td>70.6</td>\n",
              "      <td>0</td>\n",
              "      <td>0</td>\n",
              "      <td>0.50</td>\n",
              "      <td>0.01</td>\n",
              "      <td>0</td>\n",
              "      <td>0</td>\n",
              "      <td>71</td>\n",
              "      <td>0.250000</td>\n",
              "    </tr>\n",
              "  </tbody>\n",
              "</table>\n",
              "<p>81 rows × 20 columns</p>\n",
              "</div>\n",
              "      <button class=\"colab-df-convert\" onclick=\"convertToInteractive('df-c07157fe-bc14-4b42-867c-8df4d8f5698e')\"\n",
              "              title=\"Convert this dataframe to an interactive table.\"\n",
              "              style=\"display:none;\">\n",
              "        \n",
              "  <svg xmlns=\"http://www.w3.org/2000/svg\" height=\"24px\"viewBox=\"0 0 24 24\"\n",
              "       width=\"24px\">\n",
              "    <path d=\"M0 0h24v24H0V0z\" fill=\"none\"/>\n",
              "    <path d=\"M18.56 5.44l.94 2.06.94-2.06 2.06-.94-2.06-.94-.94-2.06-.94 2.06-2.06.94zm-11 1L8.5 8.5l.94-2.06 2.06-.94-2.06-.94L8.5 2.5l-.94 2.06-2.06.94zm10 10l.94 2.06.94-2.06 2.06-.94-2.06-.94-.94-2.06-.94 2.06-2.06.94z\"/><path d=\"M17.41 7.96l-1.37-1.37c-.4-.4-.92-.59-1.43-.59-.52 0-1.04.2-1.43.59L10.3 9.45l-7.72 7.72c-.78.78-.78 2.05 0 2.83L4 21.41c.39.39.9.59 1.41.59.51 0 1.02-.2 1.41-.59l7.78-7.78 2.81-2.81c.8-.78.8-2.07 0-2.86zM5.41 20L4 18.59l7.72-7.72 1.47 1.35L5.41 20z\"/>\n",
              "  </svg>\n",
              "      </button>\n",
              "      \n",
              "  <style>\n",
              "    .colab-df-container {\n",
              "      display:flex;\n",
              "      flex-wrap:wrap;\n",
              "      gap: 12px;\n",
              "    }\n",
              "\n",
              "    .colab-df-convert {\n",
              "      background-color: #E8F0FE;\n",
              "      border: none;\n",
              "      border-radius: 50%;\n",
              "      cursor: pointer;\n",
              "      display: none;\n",
              "      fill: #1967D2;\n",
              "      height: 32px;\n",
              "      padding: 0 0 0 0;\n",
              "      width: 32px;\n",
              "    }\n",
              "\n",
              "    .colab-df-convert:hover {\n",
              "      background-color: #E2EBFA;\n",
              "      box-shadow: 0px 1px 2px rgba(60, 64, 67, 0.3), 0px 1px 3px 1px rgba(60, 64, 67, 0.15);\n",
              "      fill: #174EA6;\n",
              "    }\n",
              "\n",
              "    [theme=dark] .colab-df-convert {\n",
              "      background-color: #3B4455;\n",
              "      fill: #D2E3FC;\n",
              "    }\n",
              "\n",
              "    [theme=dark] .colab-df-convert:hover {\n",
              "      background-color: #434B5C;\n",
              "      box-shadow: 0px 1px 3px 1px rgba(0, 0, 0, 0.15);\n",
              "      filter: drop-shadow(0px 1px 2px rgba(0, 0, 0, 0.3));\n",
              "      fill: #FFFFFF;\n",
              "    }\n",
              "  </style>\n",
              "\n",
              "      <script>\n",
              "        const buttonEl =\n",
              "          document.querySelector('#df-c07157fe-bc14-4b42-867c-8df4d8f5698e button.colab-df-convert');\n",
              "        buttonEl.style.display =\n",
              "          google.colab.kernel.accessAllowed ? 'block' : 'none';\n",
              "\n",
              "        async function convertToInteractive(key) {\n",
              "          const element = document.querySelector('#df-c07157fe-bc14-4b42-867c-8df4d8f5698e');\n",
              "          const dataTable =\n",
              "            await google.colab.kernel.invokeFunction('convertToInteractive',\n",
              "                                                     [key], {});\n",
              "          if (!dataTable) return;\n",
              "\n",
              "          const docLinkHtml = 'Like what you see? Visit the ' +\n",
              "            '<a target=\"_blank\" href=https://colab.research.google.com/notebooks/data_table.ipynb>data table notebook</a>'\n",
              "            + ' to learn more about interactive tables.';\n",
              "          element.innerHTML = '';\n",
              "          dataTable['output_type'] = 'display_data';\n",
              "          await google.colab.output.renderOutput(dataTable, element);\n",
              "          const docLink = document.createElement('div');\n",
              "          docLink.innerHTML = docLinkHtml;\n",
              "          element.appendChild(docLink);\n",
              "        }\n",
              "      </script>\n",
              "    </div>\n",
              "  </div>\n",
              "  "
            ]
          },
          "metadata": {},
          "execution_count": 20
        }
      ],
      "source": [
        "# Filtrar jugadores delanteros (FW)\n",
        "epl[epl['Position'] == 'FW']\n"
      ]
    },
    {
      "cell_type": "code",
      "execution_count": null,
      "metadata": {
        "colab": {
          "base_uri": "https://localhost:8080/"
        },
        "id": "VKPw15X79mQl",
        "outputId": "e8770c67-3d35-405e-a5df-97a3436519b2"
      },
      "outputs": [
        {
          "output_type": "execute_result",
          "data": {
            "text/plain": [
              "81"
            ]
          },
          "metadata": {},
          "execution_count": 21
        }
      ],
      "source": [
        "# Cantidad jugadores delanteros (FW)\n",
        "epl_fw = epl[epl['Position'] == 'FW']\n",
        "epl_fw['Name'].count()"
      ]
    },
    {
      "cell_type": "code",
      "execution_count": null,
      "metadata": {
        "colab": {
          "base_uri": "https://localhost:8080/"
        },
        "id": "2vqZCDXc9mQl",
        "outputId": "1b4144cc-ab59-459c-e0c4-499eedeb3b69"
      },
      "outputs": [
        {
          "output_type": "execute_result",
          "data": {
            "text/plain": [
              "59"
            ]
          },
          "metadata": {},
          "execution_count": 22
        }
      ],
      "source": [
        "#  Nacionalidad de los Jugadores\n",
        "np.size((epl['Nationality'].unique()))\n",
        "\n"
      ]
    },
    {
      "cell_type": "code",
      "execution_count": null,
      "metadata": {
        "colab": {
          "base_uri": "https://localhost:8080/",
          "height": 401
        },
        "id": "OyehITF39mQm",
        "outputId": "13c1e882-9aad-449f-a343-c8dbed946ff0"
      },
      "outputs": [
        {
          "output_type": "display_data",
          "data": {
            "text/plain": [
              "<Figure size 864x432 with 1 Axes>"
            ],
            "image/png": "[encoded data removed]"
          },
          "metadata": {
            "needs_background": "light"
          }
        }
      ],
      "source": [
        "# Nacionalidad de la mayoría de los jugadores\n",
        "Nationality = epl.groupby('Nationality').size().sort_values(ascending=False)\n",
        "\n",
        "Nationality.head(10).plot(kind = 'bar', figsize=(12,6), color = sns.color_palette('magma'))\n",
        "plt.show()"
      ]
    },
    {
      "cell_type": "code",
      "source": [
        "type(Nationality)"
      ],
      "metadata": {
        "colab": {
          "base_uri": "https://localhost:8080/"
        },
        "id": "JzUkwr4QHw9X",
        "outputId": "e4667d8d-2338-4d79-a2fa-85c507311f73"
      },
      "execution_count": null,
      "outputs": [
        {
          "output_type": "execute_result",
          "data": {
            "text/plain": [
              "pandas.core.series.Series"
            ]
          },
          "metadata": {},
          "execution_count": 24
        }
      ]
    },
    {
      "cell_type": "code",
      "execution_count": null,
      "metadata": {
        "colab": {
          "base_uri": "https://localhost:8080/",
          "height": 367
        },
        "id": "6XjSpsGC9mQm",
        "outputId": "d1fc995e-ec90-4964-a341-077caf658e05"
      },
      "outputs": [
        {
          "output_type": "display_data",
          "data": {
            "text/plain": [
              "<Figure size 432x288 with 1 Axes>"
            ],
            "image/png": "[encoded data removed]"
          },
          "metadata": {
            "needs_background": "light"
          }
        }
      ],
      "source": [
        "# Los Club con maximo numero de jugadores en la temporada\n",
        "epl['Club'].value_counts().nlargest(5).plot(kind='bar', color = sns.color_palette('viridis'))\n",
        "plt.show()"
      ]
    },
    {
      "cell_type": "code",
      "execution_count": null,
      "metadata": {
        "colab": {
          "base_uri": "https://localhost:8080/",
          "height": 370
        },
        "id": "oTN_STH99mQm",
        "outputId": "eda9d392-92dc-4a7b-cf3b-71fef315d296"
      },
      "outputs": [
        {
          "output_type": "execute_result",
          "data": {
            "text/plain": [
              "<matplotlib.axes._subplots.AxesSubplot at 0x7fcdfc2b8910>"
            ]
          },
          "metadata": {},
          "execution_count": 26
        },
        {
          "output_type": "display_data",
          "data": {
            "text/plain": [
              "<Figure size 432x288 with 1 Axes>"
            ],
            "image/png": "[encoded data removed]"
          },
          "metadata": {
            "needs_background": "light"
          }
        }
      ],
      "source": [
        "# Los Club con menor numero de jugadores en la temporada\n",
        "epl['Club'].value_counts().nsmallest(5).plot(kind='bar', color = sns.color_palette('viridis'))\n",
        "\n"
      ]
    },
    {
      "cell_type": "markdown",
      "metadata": {
        "id": "nyfn9IRN9mQm"
      },
      "source": [
        "### Edad de los jugadores"
      ]
    },
    {
      "cell_type": "code",
      "execution_count": null,
      "metadata": {
        "id": "LAXFQ6jj9mQm"
      },
      "outputs": [],
      "source": [
        "# Grupo de edades de los Jugadores\n",
        "Under20 = epl[epl['Age'] <= 20]\n",
        "age20_25 = epl[(epl['Age'] > 20) & (epl['Age'] <= 25)]\n",
        "age25_30 = epl[(epl['Age'] > 25) & (epl['Age'] <= 30)]\n",
        "Above30 = epl[epl['Age'] > 30]"
      ]
    },
    {
      "cell_type": "code",
      "execution_count": null,
      "metadata": {
        "tags": [],
        "colab": {
          "base_uri": "https://localhost:8080/",
          "height": 378
        },
        "id": "V5xyl0PF9mQm",
        "outputId": "3a4f7d14-492b-43aa-c94e-efcb4b49f64a"
      },
      "outputs": [
        {
          "output_type": "display_data",
          "data": {
            "text/plain": [
              "<Figure size 936x432 with 1 Axes>"
            ],
            "image/png": "[encoded data removed]"
          },
          "metadata": {}
        }
      ],
      "source": [
        "#Pie Chart de los grupos de jugadores por edad\n",
        "x = np.array([Under20['Name'].count(), age20_25['Name'].count(),\n",
        "              age25_30['Name'].count(), Above30['Name'].count()])\n",
        "\n",
        "mylabels = ['<= 20', '> 20 & <= 25', '> 25 & <= 30', '> 30']\n",
        "\n",
        "plt.figure(figsize=(13,6))\n",
        "plt.title('Total de jugadores por Grupos de Edad', fontsize = 20)\n",
        "plt.pie(x, labels = mylabels, autopct = '%.1f%%')\n",
        "plt.show()"
      ]
    },
    {
      "cell_type": "code",
      "execution_count": null,
      "metadata": {
        "colab": {
          "base_uri": "https://localhost:8080/",
          "height": 391
        },
        "id": "iUJcyum19mQm",
        "outputId": "4e5299fc-36bd-457d-ec98-e3a1c161c425"
      },
      "outputs": [
        {
          "output_type": "display_data",
          "data": {
            "text/plain": [
              "<Figure size 432x288 with 1 Axes>"
            ],
            "image/png": "[encoded data removed]"
          },
          "metadata": {
            "needs_background": "light"
          }
        }
      ],
      "source": [
        "# Total de jugadores menores de 20 años en cada club\n",
        "player_under_20 = epl[epl['Age'] < 20]\n",
        "player_under_20['Club'].value_counts().plot(kind = 'bar', color = sns.color_palette('cubehelix'))\n",
        "plt.show()"
      ]
    },
    {
      "cell_type": "code",
      "execution_count": null,
      "metadata": {
        "colab": {
          "base_uri": "https://localhost:8080/",
          "height": 472
        },
        "id": "9q12-BjC9mQn",
        "outputId": "02c66e41-5876-4936-f580-f09219b77e4b"
      },
      "outputs": [
        {
          "output_type": "execute_result",
          "data": {
            "text/plain": [
              "                   Name               Club Nationality Position  Age  Matches  \\\n",
              "61      Mason Greenwood  Manchester United         ENG       FW   18       31   \n",
              "72     Brandon Williams  Manchester United         ENG       DF   19        4   \n",
              "73          Amad Diallo  Manchester United         CIV       FW   18        3   \n",
              "74       Anthony Elanga  Manchester United         SWE       FW   18        2   \n",
              "76      Shola Shoretire  Manchester United         ENG       FW   16        2   \n",
              "78      Hannibal Mejbri  Manchester United         FRA       MF   17        1   \n",
              "79  William Thomas Fish  Manchester United         ENG       DF   17        1   \n",
              "\n",
              "    Starts  Mins  Goals  Assists  Passes_Attempted  Perc_Passes_Completed  \\\n",
              "61      21  1822      7        2               732                   83.1   \n",
              "72       2   188      0        0               140                   85.7   \n",
              "73       2   166      0        1                64                   84.4   \n",
              "74       2   155      1        0                53                   81.1   \n",
              "76       0    11      0        0                 8                   75.0   \n",
              "78       0     9      0        0                 3                  100.0   \n",
              "79       0     1      0        0                 1                    0.0   \n",
              "\n",
              "    Penalty_Goals  Penalty_Attempted    xG    xA  Yellow_Cards  Red_Cards  \\\n",
              "61              0                  0  0.37  0.09             2          0   \n",
              "72              0                  0  0.05  0.01             0          0   \n",
              "73              0                  0  0.02  0.26             0          0   \n",
              "74              0                  0  0.16  0.02             0          0   \n",
              "76              0                  0  0.00  0.00             0          0   \n",
              "78              0                  0  0.00  0.00             0          0   \n",
              "79              0                  0  0.00  0.00             0          0   \n",
              "\n",
              "    MinsPerMatch  GoalsPerMatch  \n",
              "61            58       0.225806  \n",
              "72            47       0.000000  \n",
              "73            55       0.000000  \n",
              "74            77       0.500000  \n",
              "76             5       0.000000  \n",
              "78             9       0.000000  \n",
              "79             1       0.000000  "
            ],
            "text/html": [
              "\n",
              "  <div id=\"df-435b7e44-301c-48a0-ac4f-da5c90433b91\">\n",
              "    <div class=\"colab-df-container\">\n",
              "      <div>\n",
              "<style scoped>\n",
              "    .dataframe tbody tr th:only-of-type {\n",
              "        vertical-align: middle;\n",
              "    }\n",
              "\n",
              "    .dataframe tbody tr th {\n",
              "        vertical-align: top;\n",
              "    }\n",
              "\n",
              "    .dataframe thead th {\n",
              "        text-align: right;\n",
              "    }\n",
              "</style>\n",
              "<table border=\"1\" class=\"dataframe\">\n",
              "  <thead>\n",
              "    <tr style=\"text-align: right;\">\n",
              "      <th></th>\n",
              "      <th>Name</th>\n",
              "      <th>Club</th>\n",
              "      <th>Nationality</th>\n",
              "      <th>Position</th>\n",
              "      <th>Age</th>\n",
              "      <th>Matches</th>\n",
              "      <th>Starts</th>\n",
              "      <th>Mins</th>\n",
              "      <th>Goals</th>\n",
              "      <th>Assists</th>\n",
              "      <th>Passes_Attempted</th>\n",
              "      <th>Perc_Passes_Completed</th>\n",
              "      <th>Penalty_Goals</th>\n",
              "      <th>Penalty_Attempted</th>\n",
              "      <th>xG</th>\n",
              "      <th>xA</th>\n",
              "      <th>Yellow_Cards</th>\n",
              "      <th>Red_Cards</th>\n",
              "      <th>MinsPerMatch</th>\n",
              "      <th>GoalsPerMatch</th>\n",
              "    </tr>\n",
              "  </thead>\n",
              "  <tbody>\n",
              "    <tr>\n",
              "      <th>61</th>\n",
              "      <td>Mason Greenwood</td>\n",
              "      <td>Manchester United</td>\n",
              "      <td>ENG</td>\n",
              "      <td>FW</td>\n",
              "      <td>18</td>\n",
              "      <td>31</td>\n",
              "      <td>21</td>\n",
              "      <td>1822</td>\n",
              "      <td>7</td>\n",
              "      <td>2</td>\n",
              "      <td>732</td>\n",
              "      <td>83.1</td>\n",
              "      <td>0</td>\n",
              "      <td>0</td>\n",
              "      <td>0.37</td>\n",
              "      <td>0.09</td>\n",
              "      <td>2</td>\n",
              "      <td>0</td>\n",
              "      <td>58</td>\n",
              "      <td>0.225806</td>\n",
              "    </tr>\n",
              "    <tr>\n",
              "      <th>72</th>\n",
              "      <td>Brandon Williams</td>\n",
              "      <td>Manchester United</td>\n",
              "      <td>ENG</td>\n",
              "      <td>DF</td>\n",
              "      <td>19</td>\n",
              "      <td>4</td>\n",
              "      <td>2</td>\n",
              "      <td>188</td>\n",
              "      <td>0</td>\n",
              "      <td>0</td>\n",
              "      <td>140</td>\n",
              "      <td>85.7</td>\n",
              "      <td>0</td>\n",
              "      <td>0</td>\n",
              "      <td>0.05</td>\n",
              "      <td>0.01</td>\n",
              "      <td>0</td>\n",
              "      <td>0</td>\n",
              "      <td>47</td>\n",
              "      <td>0.000000</td>\n",
              "    </tr>\n",
              "    <tr>\n",
              "      <th>73</th>\n",
              "      <td>Amad Diallo</td>\n",
              "      <td>Manchester United</td>\n",
              "      <td>CIV</td>\n",
              "      <td>FW</td>\n",
              "      <td>18</td>\n",
              "      <td>3</td>\n",
              "      <td>2</td>\n",
              "      <td>166</td>\n",
              "      <td>0</td>\n",
              "      <td>1</td>\n",
              "      <td>64</td>\n",
              "      <td>84.4</td>\n",
              "      <td>0</td>\n",
              "      <td>0</td>\n",
              "      <td>0.02</td>\n",
              "      <td>0.26</td>\n",
              "      <td>0</td>\n",
              "      <td>0</td>\n",
              "      <td>55</td>\n",
              "      <td>0.000000</td>\n",
              "    </tr>\n",
              "    <tr>\n",
              "      <th>74</th>\n",
              "      <td>Anthony Elanga</td>\n",
              "      <td>Manchester United</td>\n",
              "      <td>SWE</td>\n",
              "      <td>FW</td>\n",
              "      <td>18</td>\n",
              "      <td>2</td>\n",
              "      <td>2</td>\n",
              "      <td>155</td>\n",
              "      <td>1</td>\n",
              "      <td>0</td>\n",
              "      <td>53</td>\n",
              "      <td>81.1</td>\n",
              "      <td>0</td>\n",
              "      <td>0</td>\n",
              "      <td>0.16</td>\n",
              "      <td>0.02</td>\n",
              "      <td>0</td>\n",
              "      <td>0</td>\n",
              "      <td>77</td>\n",
              "      <td>0.500000</td>\n",
              "    </tr>\n",
              "    <tr>\n",
              "      <th>76</th>\n",
              "      <td>Shola Shoretire</td>\n",
              "      <td>Manchester United</td>\n",
              "      <td>ENG</td>\n",
              "      <td>FW</td>\n",
              "      <td>16</td>\n",
              "      <td>2</td>\n",
              "      <td>0</td>\n",
              "      <td>11</td>\n",
              "      <td>0</td>\n",
              "      <td>0</td>\n",
              "      <td>8</td>\n",
              "      <td>75.0</td>\n",
              "      <td>0</td>\n",
              "      <td>0</td>\n",
              "      <td>0.00</td>\n",
              "      <td>0.00</td>\n",
              "      <td>0</td>\n",
              "      <td>0</td>\n",
              "      <td>5</td>\n",
              "      <td>0.000000</td>\n",
              "    </tr>\n",
              "    <tr>\n",
              "      <th>78</th>\n",
              "      <td>Hannibal Mejbri</td>\n",
              "      <td>Manchester United</td>\n",
              "      <td>FRA</td>\n",
              "      <td>MF</td>\n",
              "      <td>17</td>\n",
              "      <td>1</td>\n",
              "      <td>0</td>\n",
              "      <td>9</td>\n",
              "      <td>0</td>\n",
              "      <td>0</td>\n",
              "      <td>3</td>\n",
              "      <td>100.0</td>\n",
              "      <td>0</td>\n",
              "      <td>0</td>\n",
              "      <td>0.00</td>\n",
              "      <td>0.00</td>\n",
              "      <td>0</td>\n",
              "      <td>0</td>\n",
              "      <td>9</td>\n",
              "      <td>0.000000</td>\n",
              "    </tr>\n",
              "    <tr>\n",
              "      <th>79</th>\n",
              "      <td>William Thomas Fish</td>\n",
              "      <td>Manchester United</td>\n",
              "      <td>ENG</td>\n",
              "      <td>DF</td>\n",
              "      <td>17</td>\n",
              "      <td>1</td>\n",
              "      <td>0</td>\n",
              "      <td>1</td>\n",
              "      <td>0</td>\n",
              "      <td>0</td>\n",
              "      <td>1</td>\n",
              "      <td>0.0</td>\n",
              "      <td>0</td>\n",
              "      <td>0</td>\n",
              "      <td>0.00</td>\n",
              "      <td>0.00</td>\n",
              "      <td>0</td>\n",
              "      <td>0</td>\n",
              "      <td>1</td>\n",
              "      <td>0.000000</td>\n",
              "    </tr>\n",
              "  </tbody>\n",
              "</table>\n",
              "</div>\n",
              "      <button class=\"colab-df-convert\" onclick=\"convertToInteractive('df-435b7e44-301c-48a0-ac4f-da5c90433b91')\"\n",
              "              title=\"Convert this dataframe to an interactive table.\"\n",
              "              style=\"display:none;\">\n",
              "        \n",
              "  <svg xmlns=\"http://www.w3.org/2000/svg\" height=\"24px\"viewBox=\"0 0 24 24\"\n",
              "       width=\"24px\">\n",
              "    <path d=\"M0 0h24v24H0V0z\" fill=\"none\"/>\n",
              "    <path d=\"M18.56 5.44l.94 2.06.94-2.06 2.06-.94-2.06-.94-.94-2.06-.94 2.06-2.06.94zm-11 1L8.5 8.5l.94-2.06 2.06-.94-2.06-.94L8.5 2.5l-.94 2.06-2.06.94zm10 10l.94 2.06.94-2.06 2.06-.94-2.06-.94-.94-2.06-.94 2.06-2.06.94z\"/><path d=\"M17.41 7.96l-1.37-1.37c-.4-.4-.92-.59-1.43-.59-.52 0-1.04.2-1.43.59L10.3 9.45l-7.72 7.72c-.78.78-.78 2.05 0 2.83L4 21.41c.39.39.9.59 1.41.59.51 0 1.02-.2 1.41-.59l7.78-7.78 2.81-2.81c.8-.78.8-2.07 0-2.86zM5.41 20L4 18.59l7.72-7.72 1.47 1.35L5.41 20z\"/>\n",
              "  </svg>\n",
              "      </button>\n",
              "      \n",
              "  <style>\n",
              "    .colab-df-container {\n",
              "      display:flex;\n",
              "      flex-wrap:wrap;\n",
              "      gap: 12px;\n",
              "    }\n",
              "\n",
              "    .colab-df-convert {\n",
              "      background-color: #E8F0FE;\n",
              "      border: none;\n",
              "      border-radius: 50%;\n",
              "      cursor: pointer;\n",
              "      display: none;\n",
              "      fill: #1967D2;\n",
              "      height: 32px;\n",
              "      padding: 0 0 0 0;\n",
              "      width: 32px;\n",
              "    }\n",
              "\n",
              "    .colab-df-convert:hover {\n",
              "      background-color: #E2EBFA;\n",
              "      box-shadow: 0px 1px 2px rgba(60, 64, 67, 0.3), 0px 1px 3px 1px rgba(60, 64, 67, 0.15);\n",
              "      fill: #174EA6;\n",
              "    }\n",
              "\n",
              "    [theme=dark] .colab-df-convert {\n",
              "      background-color: #3B4455;\n",
              "      fill: #D2E3FC;\n",
              "    }\n",
              "\n",
              "    [theme=dark] .colab-df-convert:hover {\n",
              "      background-color: #434B5C;\n",
              "      box-shadow: 0px 1px 3px 1px rgba(0, 0, 0, 0.15);\n",
              "      filter: drop-shadow(0px 1px 2px rgba(0, 0, 0, 0.3));\n",
              "      fill: #FFFFFF;\n",
              "    }\n",
              "  </style>\n",
              "\n",
              "      <script>\n",
              "        const buttonEl =\n",
              "          document.querySelector('#df-435b7e44-301c-48a0-ac4f-da5c90433b91 button.colab-df-convert');\n",
              "        buttonEl.style.display =\n",
              "          google.colab.kernel.accessAllowed ? 'block' : 'none';\n",
              "\n",
              "        async function convertToInteractive(key) {\n",
              "          const element = document.querySelector('#df-435b7e44-301c-48a0-ac4f-da5c90433b91');\n",
              "          const dataTable =\n",
              "            await google.colab.kernel.invokeFunction('convertToInteractive',\n",
              "                                                     [key], {});\n",
              "          if (!dataTable) return;\n",
              "\n",
              "          const docLinkHtml = 'Like what you see? Visit the ' +\n",
              "            '<a target=\"_blank\" href=https://colab.research.google.com/notebooks/data_table.ipynb>data table notebook</a>'\n",
              "            + ' to learn more about interactive tables.';\n",
              "          element.innerHTML = '';\n",
              "          dataTable['output_type'] = 'display_data';\n",
              "          await google.colab.output.renderOutput(dataTable, element);\n",
              "          const docLink = document.createElement('div');\n",
              "          docLink.innerHTML = docLinkHtml;\n",
              "          element.appendChild(docLink);\n",
              "        }\n",
              "      </script>\n",
              "    </div>\n",
              "  </div>\n",
              "  "
            ]
          },
          "metadata": {},
          "execution_count": 30
        }
      ],
      "source": [
        "# Jugadores menores de 20 años en  club Manchester United (7)\n",
        "player_under_20[player_under_20['Club']=='Manchester United']"
      ]
    },
    {
      "cell_type": "code",
      "execution_count": null,
      "metadata": {
        "tags": [],
        "colab": {
          "base_uri": "https://localhost:8080/",
          "height": 514
        },
        "id": "VmM7L7zr9mQn",
        "outputId": "fecd7d53-4a36-446a-a6ed-7f4dead0b5de"
      },
      "outputs": [
        {
          "output_type": "display_data",
          "data": {
            "text/plain": [
              "<Figure size 936x432 with 1 Axes>"
            ],
            "image/png": "[encoded data removed]"
          },
          "metadata": {
            "needs_background": "light"
          }
        }
      ],
      "source": [
        "# Gráfico BoxPlot de la edad promedio de los jugadores de cada club\n",
        "plt.figure(figsize=(13,6))\n",
        "sns.boxplot(x = 'Club', y ='Age', data = epl)\n",
        "plt.xticks(rotation = 90)\n",
        "\n",
        "plt.show()"
      ]
    },
    {
      "cell_type": "code",
      "execution_count": null,
      "metadata": {
        "tags": [],
        "colab": {
          "base_uri": "https://localhost:8080/"
        },
        "id": "fxazCC4S9mQn",
        "outputId": "53adf5f2-c6bb-450d-8c5a-6e786de1f99b"
      },
      "outputs": [
        {
          "output_type": "execute_result",
          "data": {
            "text/plain": [
              "Club\n",
              "Crystal Palace             28.333333\n",
              "West Ham United            27.500000\n",
              "Burnley                    27.040000\n",
              "West Bromwich Albion       26.766667\n",
              "Newcastle United           26.074074\n",
              "Manchester City            25.708333\n",
              "Tottenham Hotspur          25.625000\n",
              "Chelsea                    25.592593\n",
              "Leicester City             25.592593\n",
              "Liverpool FC               25.571429\n",
              "Everton                    25.413793\n",
              "Leeds United               25.347826\n",
              "Fulham                     25.035714\n",
              "Arsenal                    24.965517\n",
              "Sheffield United           24.814815\n",
              "Brighton                   24.555556\n",
              "Wolverhampton Wanderers    24.444444\n",
              "Aston Villa                24.291667\n",
              "Southampton                24.137931\n",
              "Manchester United          23.862069\n",
              "dtype: float64"
            ]
          },
          "metadata": {},
          "execution_count": 32
        }
      ],
      "source": [
        "# Clubs con Edades promedio mas altas\n",
        "num_player = epl.groupby('Club').size()\n",
        "\n",
        "data = (epl.groupby('Club')['Age'].sum())/ num_player\n",
        "\n",
        "data.sort_values(ascending=False)"
      ]
    },
    {
      "cell_type": "code",
      "execution_count": null,
      "metadata": {
        "tags": [],
        "id": "TSPhXWI59mQn",
        "colab": {
          "base_uri": "https://localhost:8080/",
          "height": 677
        },
        "outputId": "03a1ea02-97f7-42d4-8035-8156b31b52c8"
      },
      "outputs": [
        {
          "output_type": "display_data",
          "data": {
            "text/plain": [
              "<Figure size 1440x576 with 1 Axes>"
            ],
            "image/png": "[encoded data removed]"
          },
          "metadata": {}
        }
      ],
      "source": [
        "# Grafica de Total de asistencias gol por cada club\n",
        "Assits_by_club = pd.DataFrame(epl.groupby('Club', as_index=False)['Assists'].sum())\n",
        "sns.set(style='whitegrid',color_codes=True)\n",
        "ax = sns.barplot(x = 'Club', y = 'Assists', data= Assits_by_club.sort_values(by='Assists'), palette=sns.set(style='whitegrid',color_codes=True))\n",
        "ax.set_xlabel('Club', fontsize=30)\n",
        "ax.set_ylabel('Assists', fontsize=20)\n",
        "plt.xticks(rotation = 75)\n",
        "\n",
        "plt.rcParams['figure.figsize'] = [20,8]\n",
        "plt.title('Grafica de club vs. Total de asistencias de gol', fontsize=20)\n",
        "plt.show()"
      ]
    },
    {
      "cell_type": "code",
      "execution_count": null,
      "metadata": {
        "id": "6VgxWwJg9mQn",
        "colab": {
          "base_uri": "https://localhost:8080/",
          "height": 363
        },
        "outputId": "6bd3c040-7eb1-4cfa-c0b7-3d71f679ba2e"
      },
      "outputs": [
        {
          "output_type": "execute_result",
          "data": {
            "text/plain": [
              "                     Name               Club  Assists  Matches\n",
              "162            Harry Kane  Tottenham Hotspur       14       35\n",
              "34        Kevin De Bruyne    Manchester City       12       25\n",
              "51        Bruno Fernandes  Manchester United       12       37\n",
              "161         Son Heung-min  Tottenham Hotspur       10       37\n",
              "273         Jack Grealish        Aston Villa       10       26\n",
              "54        Marcus Rashford  Manchester United        9       37\n",
              "110           Jamie Vardy     Leicester City        9       34\n",
              "220  Raphael Dias Belloli       Leeds United        9       30\n",
              "2             Timo Werner            Chelsea        8       35\n",
              "136       Aaron Cresswell    West Ham United        8       36"
            ],
            "text/html": [
              "\n",
              "  <div id=\"df-b2794577-56d5-4c38-a146-018f90bfb8ed\">\n",
              "    <div class=\"colab-df-container\">\n",
              "      <div>\n",
              "<style scoped>\n",
              "    .dataframe tbody tr th:only-of-type {\n",
              "        vertical-align: middle;\n",
              "    }\n",
              "\n",
              "    .dataframe tbody tr th {\n",
              "        vertical-align: top;\n",
              "    }\n",
              "\n",
              "    .dataframe thead th {\n",
              "        text-align: right;\n",
              "    }\n",
              "</style>\n",
              "<table border=\"1\" class=\"dataframe\">\n",
              "  <thead>\n",
              "    <tr style=\"text-align: right;\">\n",
              "      <th></th>\n",
              "      <th>Name</th>\n",
              "      <th>Club</th>\n",
              "      <th>Assists</th>\n",
              "      <th>Matches</th>\n",
              "    </tr>\n",
              "  </thead>\n",
              "  <tbody>\n",
              "    <tr>\n",
              "      <th>162</th>\n",
              "      <td>Harry Kane</td>\n",
              "      <td>Tottenham Hotspur</td>\n",
              "      <td>14</td>\n",
              "      <td>35</td>\n",
              "    </tr>\n",
              "    <tr>\n",
              "      <th>34</th>\n",
              "      <td>Kevin De Bruyne</td>\n",
              "      <td>Manchester City</td>\n",
              "      <td>12</td>\n",
              "      <td>25</td>\n",
              "    </tr>\n",
              "    <tr>\n",
              "      <th>51</th>\n",
              "      <td>Bruno Fernandes</td>\n",
              "      <td>Manchester United</td>\n",
              "      <td>12</td>\n",
              "      <td>37</td>\n",
              "    </tr>\n",
              "    <tr>\n",
              "      <th>161</th>\n",
              "      <td>Son Heung-min</td>\n",
              "      <td>Tottenham Hotspur</td>\n",
              "      <td>10</td>\n",
              "      <td>37</td>\n",
              "    </tr>\n",
              "    <tr>\n",
              "      <th>273</th>\n",
              "      <td>Jack Grealish</td>\n",
              "      <td>Aston Villa</td>\n",
              "      <td>10</td>\n",
              "      <td>26</td>\n",
              "    </tr>\n",
              "    <tr>\n",
              "      <th>54</th>\n",
              "      <td>Marcus Rashford</td>\n",
              "      <td>Manchester United</td>\n",
              "      <td>9</td>\n",
              "      <td>37</td>\n",
              "    </tr>\n",
              "    <tr>\n",
              "      <th>110</th>\n",
              "      <td>Jamie Vardy</td>\n",
              "      <td>Leicester City</td>\n",
              "      <td>9</td>\n",
              "      <td>34</td>\n",
              "    </tr>\n",
              "    <tr>\n",
              "      <th>220</th>\n",
              "      <td>Raphael Dias Belloli</td>\n",
              "      <td>Leeds United</td>\n",
              "      <td>9</td>\n",
              "      <td>30</td>\n",
              "    </tr>\n",
              "    <tr>\n",
              "      <th>2</th>\n",
              "      <td>Timo Werner</td>\n",
              "      <td>Chelsea</td>\n",
              "      <td>8</td>\n",
              "      <td>35</td>\n",
              "    </tr>\n",
              "    <tr>\n",
              "      <th>136</th>\n",
              "      <td>Aaron Cresswell</td>\n",
              "      <td>West Ham United</td>\n",
              "      <td>8</td>\n",
              "      <td>36</td>\n",
              "    </tr>\n",
              "  </tbody>\n",
              "</table>\n",
              "</div>\n",
              "      <button class=\"colab-df-convert\" onclick=\"convertToInteractive('df-b2794577-56d5-4c38-a146-018f90bfb8ed')\"\n",
              "              title=\"Convert this dataframe to an interactive table.\"\n",
              "              style=\"display:none;\">\n",
              "        \n",
              "  <svg xmlns=\"http://www.w3.org/2000/svg\" height=\"24px\"viewBox=\"0 0 24 24\"\n",
              "       width=\"24px\">\n",
              "    <path d=\"M0 0h24v24H0V0z\" fill=\"none\"/>\n",
              "    <path d=\"M18.56 5.44l.94 2.06.94-2.06 2.06-.94-2.06-.94-.94-2.06-.94 2.06-2.06.94zm-11 1L8.5 8.5l.94-2.06 2.06-.94-2.06-.94L8.5 2.5l-.94 2.06-2.06.94zm10 10l.94 2.06.94-2.06 2.06-.94-2.06-.94-.94-2.06-.94 2.06-2.06.94z\"/><path d=\"M17.41 7.96l-1.37-1.37c-.4-.4-.92-.59-1.43-.59-.52 0-1.04.2-1.43.59L10.3 9.45l-7.72 7.72c-.78.78-.78 2.05 0 2.83L4 21.41c.39.39.9.59 1.41.59.51 0 1.02-.2 1.41-.59l7.78-7.78 2.81-2.81c.8-.78.8-2.07 0-2.86zM5.41 20L4 18.59l7.72-7.72 1.47 1.35L5.41 20z\"/>\n",
              "  </svg>\n",
              "      </button>\n",
              "      \n",
              "  <style>\n",
              "    .colab-df-container {\n",
              "      display:flex;\n",
              "      flex-wrap:wrap;\n",
              "      gap: 12px;\n",
              "    }\n",
              "\n",
              "    .colab-df-convert {\n",
              "      background-color: #E8F0FE;\n",
              "      border: none;\n",
              "      border-radius: 50%;\n",
              "      cursor: pointer;\n",
              "      display: none;\n",
              "      fill: #1967D2;\n",
              "      height: 32px;\n",
              "      padding: 0 0 0 0;\n",
              "      width: 32px;\n",
              "    }\n",
              "\n",
              "    .colab-df-convert:hover {\n",
              "      background-color: #E2EBFA;\n",
              "      box-shadow: 0px 1px 2px rgba(60, 64, 67, 0.3), 0px 1px 3px 1px rgba(60, 64, 67, 0.15);\n",
              "      fill: #174EA6;\n",
              "    }\n",
              "\n",
              "    [theme=dark] .colab-df-convert {\n",
              "      background-color: #3B4455;\n",
              "      fill: #D2E3FC;\n",
              "    }\n",
              "\n",
              "    [theme=dark] .colab-df-convert:hover {\n",
              "      background-color: #434B5C;\n",
              "      box-shadow: 0px 1px 3px 1px rgba(0, 0, 0, 0.15);\n",
              "      filter: drop-shadow(0px 1px 2px rgba(0, 0, 0, 0.3));\n",
              "      fill: #FFFFFF;\n",
              "    }\n",
              "  </style>\n",
              "\n",
              "      <script>\n",
              "        const buttonEl =\n",
              "          document.querySelector('#df-b2794577-56d5-4c38-a146-018f90bfb8ed button.colab-df-convert');\n",
              "        buttonEl.style.display =\n",
              "          google.colab.kernel.accessAllowed ? 'block' : 'none';\n",
              "\n",
              "        async function convertToInteractive(key) {\n",
              "          const element = document.querySelector('#df-b2794577-56d5-4c38-a146-018f90bfb8ed');\n",
              "          const dataTable =\n",
              "            await google.colab.kernel.invokeFunction('convertToInteractive',\n",
              "                                                     [key], {});\n",
              "          if (!dataTable) return;\n",
              "\n",
              "          const docLinkHtml = 'Like what you see? Visit the ' +\n",
              "            '<a target=\"_blank\" href=https://colab.research.google.com/notebooks/data_table.ipynb>data table notebook</a>'\n",
              "            + ' to learn more about interactive tables.';\n",
              "          element.innerHTML = '';\n",
              "          dataTable['output_type'] = 'display_data';\n",
              "          await google.colab.output.renderOutput(dataTable, element);\n",
              "          const docLink = document.createElement('div');\n",
              "          docLink.innerHTML = docLinkHtml;\n",
              "          element.appendChild(docLink);\n",
              "        }\n",
              "      </script>\n",
              "    </div>\n",
              "  </div>\n",
              "  "
            ]
          },
          "metadata": {},
          "execution_count": 38
        }
      ],
      "source": [
        "# Jugadores top de 10 Asistencias Gol\n",
        "top_10_assists = epl[['Name','Club','Assists','Matches']].nlargest(n=10,columns='Assists')\n",
        "top_10_assists\n"
      ]
    },
    {
      "cell_type": "code",
      "execution_count": null,
      "metadata": {
        "tags": [],
        "id": "qEPjuee29mQo",
        "colab": {
          "base_uri": "https://localhost:8080/",
          "height": 460
        },
        "outputId": "4122f282-042c-4885-b7ae-ce34b0334304"
      },
      "outputs": [
        {
          "output_type": "display_data",
          "data": {
            "text/plain": [
              "<Figure size 432x288 with 1 Axes>"
            ],
            "image/png": "[encoded data removed]"
          },
          "metadata": {}
        }
      ],
      "source": [
        "# Grafica del total de goles de cada club\n",
        "Goals_by_clubs = pd.DataFrame(epl.groupby('Club', as_index=False)['Goals'].sum())\n",
        "sns.set(style='whitegrid', color_codes=True)\n",
        "ax = sns.barplot(x='Club', y='Goals', data= Goals_by_clubs.sort_values(by='Goals'), palette=sns.set(style='whitegrid', color_codes=True))\n",
        "ax.set_xlabel('Club', fontsize =30)\n",
        "ax.set_ylabel('Goals', fontsize =20)\n",
        "plt.xticks(rotation=75)\n",
        "\n",
        "plt.rcParams['figure.figsize'] = (20,8)\n",
        "plt.title('Grafica de club vs. totalde goles', fontsize=20)\n",
        "plt.show()"
      ]
    },
    {
      "cell_type": "code",
      "execution_count": null,
      "metadata": {
        "id": "sewSEt459mQo",
        "colab": {
          "base_uri": "https://localhost:8080/",
          "height": 363
        },
        "outputId": "722f1c1b-706d-474c-ae51-6b7aeaafa47b"
      },
      "outputs": [
        {
          "output_type": "execute_result",
          "data": {
            "text/plain": [
              "                      Name               Club  Goals  Matches\n",
              "162             Harry Kane  Tottenham Hotspur     23       35\n",
              "81           Mohamed Salah       Liverpool FC     22       37\n",
              "51         Bruno Fernandes  Manchester United     18       37\n",
              "161          Son Heung-min  Tottenham Hotspur     17       37\n",
              "214        Patrick Bamford       Leeds United     17       38\n",
              "237  Dominic Calvert-Lewin            Everton     16       33\n",
              "110            Jamie Vardy     Leicester City     15       34\n",
              "267          Ollie Watkins        Aston Villa     14       37\n",
              "33          İlkay Gündoğan    Manchester City     13       28\n",
              "191    Alexandre Lacazette            Arsenal     13       31"
            ],
            "text/html": [
              "\n",
              "  <div id=\"df-6cda6c71-25bf-4608-9112-ca20cac96a8b\">\n",
              "    <div class=\"colab-df-container\">\n",
              "      <div>\n",
              "<style scoped>\n",
              "    .dataframe tbody tr th:only-of-type {\n",
              "        vertical-align: middle;\n",
              "    }\n",
              "\n",
              "    .dataframe tbody tr th {\n",
              "        vertical-align: top;\n",
              "    }\n",
              "\n",
              "    .dataframe thead th {\n",
              "        text-align: right;\n",
              "    }\n",
              "</style>\n",
              "<table border=\"1\" class=\"dataframe\">\n",
              "  <thead>\n",
              "    <tr style=\"text-align: right;\">\n",
              "      <th></th>\n",
              "      <th>Name</th>\n",
              "      <th>Club</th>\n",
              "      <th>Goals</th>\n",
              "      <th>Matches</th>\n",
              "    </tr>\n",
              "  </thead>\n",
              "  <tbody>\n",
              "    <tr>\n",
              "      <th>162</th>\n",
              "      <td>Harry Kane</td>\n",
              "      <td>Tottenham Hotspur</td>\n",
              "      <td>23</td>\n",
              "      <td>35</td>\n",
              "    </tr>\n",
              "    <tr>\n",
              "      <th>81</th>\n",
              "      <td>Mohamed Salah</td>\n",
              "      <td>Liverpool FC</td>\n",
              "      <td>22</td>\n",
              "      <td>37</td>\n",
              "    </tr>\n",
              "    <tr>\n",
              "      <th>51</th>\n",
              "      <td>Bruno Fernandes</td>\n",
              "      <td>Manchester United</td>\n",
              "      <td>18</td>\n",
              "      <td>37</td>\n",
              "    </tr>\n",
              "    <tr>\n",
              "      <th>161</th>\n",
              "      <td>Son Heung-min</td>\n",
              "      <td>Tottenham Hotspur</td>\n",
              "      <td>17</td>\n",
              "      <td>37</td>\n",
              "    </tr>\n",
              "    <tr>\n",
              "      <th>214</th>\n",
              "      <td>Patrick Bamford</td>\n",
              "      <td>Leeds United</td>\n",
              "      <td>17</td>\n",
              "      <td>38</td>\n",
              "    </tr>\n",
              "    <tr>\n",
              "      <th>237</th>\n",
              "      <td>Dominic Calvert-Lewin</td>\n",
              "      <td>Everton</td>\n",
              "      <td>16</td>\n",
              "      <td>33</td>\n",
              "    </tr>\n",
              "    <tr>\n",
              "      <th>110</th>\n",
              "      <td>Jamie Vardy</td>\n",
              "      <td>Leicester City</td>\n",
              "      <td>15</td>\n",
              "      <td>34</td>\n",
              "    </tr>\n",
              "    <tr>\n",
              "      <th>267</th>\n",
              "      <td>Ollie Watkins</td>\n",
              "      <td>Aston Villa</td>\n",
              "      <td>14</td>\n",
              "      <td>37</td>\n",
              "    </tr>\n",
              "    <tr>\n",
              "      <th>33</th>\n",
              "      <td>İlkay Gündoğan</td>\n",
              "      <td>Manchester City</td>\n",
              "      <td>13</td>\n",
              "      <td>28</td>\n",
              "    </tr>\n",
              "    <tr>\n",
              "      <th>191</th>\n",
              "      <td>Alexandre Lacazette</td>\n",
              "      <td>Arsenal</td>\n",
              "      <td>13</td>\n",
              "      <td>31</td>\n",
              "    </tr>\n",
              "  </tbody>\n",
              "</table>\n",
              "</div>\n",
              "      <button class=\"colab-df-convert\" onclick=\"convertToInteractive('df-6cda6c71-25bf-4608-9112-ca20cac96a8b')\"\n",
              "              title=\"Convert this dataframe to an interactive table.\"\n",
              "              style=\"display:none;\">\n",
              "        \n",
              "  <svg xmlns=\"http://www.w3.org/2000/svg\" height=\"24px\"viewBox=\"0 0 24 24\"\n",
              "       width=\"24px\">\n",
              "    <path d=\"M0 0h24v24H0V0z\" fill=\"none\"/>\n",
              "    <path d=\"M18.56 5.44l.94 2.06.94-2.06 2.06-.94-2.06-.94-.94-2.06-.94 2.06-2.06.94zm-11 1L8.5 8.5l.94-2.06 2.06-.94-2.06-.94L8.5 2.5l-.94 2.06-2.06.94zm10 10l.94 2.06.94-2.06 2.06-.94-2.06-.94-.94-2.06-.94 2.06-2.06.94z\"/><path d=\"M17.41 7.96l-1.37-1.37c-.4-.4-.92-.59-1.43-.59-.52 0-1.04.2-1.43.59L10.3 9.45l-7.72 7.72c-.78.78-.78 2.05 0 2.83L4 21.41c.39.39.9.59 1.41.59.51 0 1.02-.2 1.41-.59l7.78-7.78 2.81-2.81c.8-.78.8-2.07 0-2.86zM5.41 20L4 18.59l7.72-7.72 1.47 1.35L5.41 20z\"/>\n",
              "  </svg>\n",
              "      </button>\n",
              "      \n",
              "  <style>\n",
              "    .colab-df-container {\n",
              "      display:flex;\n",
              "      flex-wrap:wrap;\n",
              "      gap: 12px;\n",
              "    }\n",
              "\n",
              "    .colab-df-convert {\n",
              "      background-color: #E8F0FE;\n",
              "      border: none;\n",
              "      border-radius: 50%;\n",
              "      cursor: pointer;\n",
              "      display: none;\n",
              "      fill: #1967D2;\n",
              "      height: 32px;\n",
              "      padding: 0 0 0 0;\n",
              "      width: 32px;\n",
              "    }\n",
              "\n",
              "    .colab-df-convert:hover {\n",
              "      background-color: #E2EBFA;\n",
              "      box-shadow: 0px 1px 2px rgba(60, 64, 67, 0.3), 0px 1px 3px 1px rgba(60, 64, 67, 0.15);\n",
              "      fill: #174EA6;\n",
              "    }\n",
              "\n",
              "    [theme=dark] .colab-df-convert {\n",
              "      background-color: #3B4455;\n",
              "      fill: #D2E3FC;\n",
              "    }\n",
              "\n",
              "    [theme=dark] .colab-df-convert:hover {\n",
              "      background-color: #434B5C;\n",
              "      box-shadow: 0px 1px 3px 1px rgba(0, 0, 0, 0.15);\n",
              "      filter: drop-shadow(0px 1px 2px rgba(0, 0, 0, 0.3));\n",
              "      fill: #FFFFFF;\n",
              "    }\n",
              "  </style>\n",
              "\n",
              "      <script>\n",
              "        const buttonEl =\n",
              "          document.querySelector('#df-6cda6c71-25bf-4608-9112-ca20cac96a8b button.colab-df-convert');\n",
              "        buttonEl.style.display =\n",
              "          google.colab.kernel.accessAllowed ? 'block' : 'none';\n",
              "\n",
              "        async function convertToInteractive(key) {\n",
              "          const element = document.querySelector('#df-6cda6c71-25bf-4608-9112-ca20cac96a8b');\n",
              "          const dataTable =\n",
              "            await google.colab.kernel.invokeFunction('convertToInteractive',\n",
              "                                                     [key], {});\n",
              "          if (!dataTable) return;\n",
              "\n",
              "          const docLinkHtml = 'Like what you see? Visit the ' +\n",
              "            '<a target=\"_blank\" href=https://colab.research.google.com/notebooks/data_table.ipynb>data table notebook</a>'\n",
              "            + ' to learn more about interactive tables.';\n",
              "          element.innerHTML = '';\n",
              "          dataTable['output_type'] = 'display_data';\n",
              "          await google.colab.output.renderOutput(dataTable, element);\n",
              "          const docLink = document.createElement('div');\n",
              "          docLink.innerHTML = docLinkHtml;\n",
              "          element.appendChild(docLink);\n",
              "        }\n",
              "      </script>\n",
              "    </div>\n",
              "  </div>\n",
              "  "
            ]
          },
          "metadata": {},
          "execution_count": 59
        }
      ],
      "source": [
        "#Top 10 de  Goles por Jugador\n",
        "top_10_goals = epl[['Name', 'Club', 'Goals', 'Matches']].nlargest(n=10, columns='Goals')\n",
        "top_10_goals"
      ]
    },
    {
      "cell_type": "code",
      "execution_count": null,
      "metadata": {
        "id": "gx-rvHkM9mQo",
        "colab": {
          "base_uri": "https://localhost:8080/"
        },
        "outputId": "fd26e7fe-ae96-4287-96d7-de10ad18b7ea"
      },
      "outputs": [
        {
          "output_type": "execute_result",
          "data": {
            "text/plain": [
              "Index(['Name', 'Club', 'Nationality', 'Position', 'Age', 'Matches', 'Starts',\n",
              "       'Mins', 'Goals', 'Assists', 'Passes_Attempted', 'Perc_Passes_Completed',\n",
              "       'Penalty_Goals', 'Penalty_Attempted', 'xG', 'xA', 'Yellow_Cards',\n",
              "       'Red_Cards', 'MinsPerMatch', 'GoalsPerMatch'],\n",
              "      dtype='object')"
            ]
          },
          "metadata": {},
          "execution_count": 60
        }
      ],
      "source": [
        "epl.columns\n"
      ]
    },
    {
      "cell_type": "code",
      "execution_count": null,
      "metadata": {
        "tags": [],
        "id": "ePw8I8Zz9mQo",
        "colab": {
          "base_uri": "https://localhost:8080/",
          "height": 363
        },
        "outputId": "3f164463-6543-4811-815e-74872a21b23e"
      },
      "outputs": [
        {
          "output_type": "execute_result",
          "data": {
            "text/plain": [
              "                      Name  GoalsPerMatch  Matches  Goals\n",
              "162             Harry Kane       0.657143       35     23\n",
              "81           Mohamed Salah       0.594595       37     22\n",
              "307            Joe Willock       0.571429       14      8\n",
              "145          Jesse Lingard       0.562500       16      9\n",
              "175            Gareth Bale       0.550000       20     11\n",
              "74          Anthony Elanga       0.500000        2      1\n",
              "51         Bruno Fernandes       0.486486       37     18\n",
              "237  Dominic Calvert-Lewin       0.484848       33     16\n",
              "120      Kelechi Iheanacho       0.480000       25     12\n",
              "92              Diogo Jota       0.473684       19      9"
            ],
            "text/html": [
              "\n",
              "  <div id=\"df-4365a155-6713-4b4c-9eed-9b59991ba76c\">\n",
              "    <div class=\"colab-df-container\">\n",
              "      <div>\n",
              "<style scoped>\n",
              "    .dataframe tbody tr th:only-of-type {\n",
              "        vertical-align: middle;\n",
              "    }\n",
              "\n",
              "    .dataframe tbody tr th {\n",
              "        vertical-align: top;\n",
              "    }\n",
              "\n",
              "    .dataframe thead th {\n",
              "        text-align: right;\n",
              "    }\n",
              "</style>\n",
              "<table border=\"1\" class=\"dataframe\">\n",
              "  <thead>\n",
              "    <tr style=\"text-align: right;\">\n",
              "      <th></th>\n",
              "      <th>Name</th>\n",
              "      <th>GoalsPerMatch</th>\n",
              "      <th>Matches</th>\n",
              "      <th>Goals</th>\n",
              "    </tr>\n",
              "  </thead>\n",
              "  <tbody>\n",
              "    <tr>\n",
              "      <th>162</th>\n",
              "      <td>Harry Kane</td>\n",
              "      <td>0.657143</td>\n",
              "      <td>35</td>\n",
              "      <td>23</td>\n",
              "    </tr>\n",
              "    <tr>\n",
              "      <th>81</th>\n",
              "      <td>Mohamed Salah</td>\n",
              "      <td>0.594595</td>\n",
              "      <td>37</td>\n",
              "      <td>22</td>\n",
              "    </tr>\n",
              "    <tr>\n",
              "      <th>307</th>\n",
              "      <td>Joe Willock</td>\n",
              "      <td>0.571429</td>\n",
              "      <td>14</td>\n",
              "      <td>8</td>\n",
              "    </tr>\n",
              "    <tr>\n",
              "      <th>145</th>\n",
              "      <td>Jesse Lingard</td>\n",
              "      <td>0.562500</td>\n",
              "      <td>16</td>\n",
              "      <td>9</td>\n",
              "    </tr>\n",
              "    <tr>\n",
              "      <th>175</th>\n",
              "      <td>Gareth Bale</td>\n",
              "      <td>0.550000</td>\n",
              "      <td>20</td>\n",
              "      <td>11</td>\n",
              "    </tr>\n",
              "    <tr>\n",
              "      <th>74</th>\n",
              "      <td>Anthony Elanga</td>\n",
              "      <td>0.500000</td>\n",
              "      <td>2</td>\n",
              "      <td>1</td>\n",
              "    </tr>\n",
              "    <tr>\n",
              "      <th>51</th>\n",
              "      <td>Bruno Fernandes</td>\n",
              "      <td>0.486486</td>\n",
              "      <td>37</td>\n",
              "      <td>18</td>\n",
              "    </tr>\n",
              "    <tr>\n",
              "      <th>237</th>\n",
              "      <td>Dominic Calvert-Lewin</td>\n",
              "      <td>0.484848</td>\n",
              "      <td>33</td>\n",
              "      <td>16</td>\n",
              "    </tr>\n",
              "    <tr>\n",
              "      <th>120</th>\n",
              "      <td>Kelechi Iheanacho</td>\n",
              "      <td>0.480000</td>\n",
              "      <td>25</td>\n",
              "      <td>12</td>\n",
              "    </tr>\n",
              "    <tr>\n",
              "      <th>92</th>\n",
              "      <td>Diogo Jota</td>\n",
              "      <td>0.473684</td>\n",
              "      <td>19</td>\n",
              "      <td>9</td>\n",
              "    </tr>\n",
              "  </tbody>\n",
              "</table>\n",
              "</div>\n",
              "      <button class=\"colab-df-convert\" onclick=\"convertToInteractive('df-4365a155-6713-4b4c-9eed-9b59991ba76c')\"\n",
              "              title=\"Convert this dataframe to an interactive table.\"\n",
              "              style=\"display:none;\">\n",
              "        \n",
              "  <svg xmlns=\"http://www.w3.org/2000/svg\" height=\"24px\"viewBox=\"0 0 24 24\"\n",
              "       width=\"24px\">\n",
              "    <path d=\"M0 0h24v24H0V0z\" fill=\"none\"/>\n",
              "    <path d=\"M18.56 5.44l.94 2.06.94-2.06 2.06-.94-2.06-.94-.94-2.06-.94 2.06-2.06.94zm-11 1L8.5 8.5l.94-2.06 2.06-.94-2.06-.94L8.5 2.5l-.94 2.06-2.06.94zm10 10l.94 2.06.94-2.06 2.06-.94-2.06-.94-.94-2.06-.94 2.06-2.06.94z\"/><path d=\"M17.41 7.96l-1.37-1.37c-.4-.4-.92-.59-1.43-.59-.52 0-1.04.2-1.43.59L10.3 9.45l-7.72 7.72c-.78.78-.78 2.05 0 2.83L4 21.41c.39.39.9.59 1.41.59.51 0 1.02-.2 1.41-.59l7.78-7.78 2.81-2.81c.8-.78.8-2.07 0-2.86zM5.41 20L4 18.59l7.72-7.72 1.47 1.35L5.41 20z\"/>\n",
              "  </svg>\n",
              "      </button>\n",
              "      \n",
              "  <style>\n",
              "    .colab-df-container {\n",
              "      display:flex;\n",
              "      flex-wrap:wrap;\n",
              "      gap: 12px;\n",
              "    }\n",
              "\n",
              "    .colab-df-convert {\n",
              "      background-color: #E8F0FE;\n",
              "      border: none;\n",
              "      border-radius: 50%;\n",
              "      cursor: pointer;\n",
              "      display: none;\n",
              "      fill: #1967D2;\n",
              "      height: 32px;\n",
              "      padding: 0 0 0 0;\n",
              "      width: 32px;\n",
              "    }\n",
              "\n",
              "    .colab-df-convert:hover {\n",
              "      background-color: #E2EBFA;\n",
              "      box-shadow: 0px 1px 2px rgba(60, 64, 67, 0.3), 0px 1px 3px 1px rgba(60, 64, 67, 0.15);\n",
              "      fill: #174EA6;\n",
              "    }\n",
              "\n",
              "    [theme=dark] .colab-df-convert {\n",
              "      background-color: #3B4455;\n",
              "      fill: #D2E3FC;\n",
              "    }\n",
              "\n",
              "    [theme=dark] .colab-df-convert:hover {\n",
              "      background-color: #434B5C;\n",
              "      box-shadow: 0px 1px 3px 1px rgba(0, 0, 0, 0.15);\n",
              "      filter: drop-shadow(0px 1px 2px rgba(0, 0, 0, 0.3));\n",
              "      fill: #FFFFFF;\n",
              "    }\n",
              "  </style>\n",
              "\n",
              "      <script>\n",
              "        const buttonEl =\n",
              "          document.querySelector('#df-4365a155-6713-4b4c-9eed-9b59991ba76c button.colab-df-convert');\n",
              "        buttonEl.style.display =\n",
              "          google.colab.kernel.accessAllowed ? 'block' : 'none';\n",
              "\n",
              "        async function convertToInteractive(key) {\n",
              "          const element = document.querySelector('#df-4365a155-6713-4b4c-9eed-9b59991ba76c');\n",
              "          const dataTable =\n",
              "            await google.colab.kernel.invokeFunction('convertToInteractive',\n",
              "                                                     [key], {});\n",
              "          if (!dataTable) return;\n",
              "\n",
              "          const docLinkHtml = 'Like what you see? Visit the ' +\n",
              "            '<a target=\"_blank\" href=https://colab.research.google.com/notebooks/data_table.ipynb>data table notebook</a>'\n",
              "            + ' to learn more about interactive tables.';\n",
              "          element.innerHTML = '';\n",
              "          dataTable['output_type'] = 'display_data';\n",
              "          await google.colab.output.renderOutput(dataTable, element);\n",
              "          const docLink = document.createElement('div');\n",
              "          docLink.innerHTML = docLinkHtml;\n",
              "          element.appendChild(docLink);\n",
              "        }\n",
              "      </script>\n",
              "    </div>\n",
              "  </div>\n",
              "  "
            ]
          },
          "metadata": {},
          "execution_count": 61
        }
      ],
      "source": [
        "# Top 10 Goles por partido\n",
        "top_10_goals_per_match = epl[['Name', 'GoalsPerMatch', 'Matches', 'Goals']].nlargest(n=10, columns='GoalsPerMatch')\n",
        "top_10_goals_per_match\n"
      ]
    },
    {
      "cell_type": "code",
      "execution_count": null,
      "metadata": {
        "id": "L6q0cIGG9mQo",
        "colab": {
          "base_uri": "https://localhost:8080/"
        },
        "outputId": "d48fec05-f442-4387-dd05-b41a7da935fc"
      },
      "outputs": [
        {
          "output_type": "execute_result",
          "data": {
            "text/plain": [
              "Index(['Name', 'Club', 'Nationality', 'Position', 'Age', 'Matches', 'Starts',\n",
              "       'Mins', 'Goals', 'Assists', 'Passes_Attempted', 'Perc_Passes_Completed',\n",
              "       'Penalty_Goals', 'Penalty_Attempted', 'xG', 'xA', 'Yellow_Cards',\n",
              "       'Red_Cards', 'MinsPerMatch', 'GoalsPerMatch'],\n",
              "      dtype='object')"
            ]
          },
          "metadata": {},
          "execution_count": 62
        }
      ],
      "source": [
        "epl.columns\n"
      ]
    },
    {
      "cell_type": "code",
      "execution_count": null,
      "metadata": {
        "tags": [],
        "id": "ke4d8wUA9mQo",
        "colab": {
          "base_uri": "https://localhost:8080/",
          "height": 411
        },
        "outputId": "700ef1d9-0d06-46fa-a132-5e3a377d5564"
      },
      "outputs": [
        {
          "output_type": "display_data",
          "data": {
            "text/plain": [
              "<Figure size 1008x504 with 1 Axes>"
            ],
            "image/png": "[encoded data removed]"
          },
          "metadata": {}
        }
      ],
      "source": [
        "# Grafica Pi Chart - Goles con asistencia y Goles sin asistencia\n",
        "plt.figure(figsize=(14,7))\n",
        "assists = epl['Assists'].sum()\n",
        "data = [Total_Goals - assists, assists]\n",
        "nom = ['Goles sin Asistencia', 'Goles con Asistencia']\n",
        "colores = sns.color_palette('Set1')\n",
        "plt.pie(data, labels = nom, colors = colores, autopct = '%.0f%%')\n",
        "plt.show()"
      ]
    },
    {
      "cell_type": "code",
      "execution_count": null,
      "metadata": {
        "tags": [],
        "id": "wytr36Qh9mQo",
        "colab": {
          "base_uri": "https://localhost:8080/",
          "height": 475
        },
        "outputId": "eda9e87a-4a67-4e75-ca50-d4c472d0a81e"
      },
      "outputs": [
        {
          "output_type": "display_data",
          "data": {
            "text/plain": [
              "<Figure size 1440x432 with 1 Axes>"
            ],
            "image/png": "[encoded data removed]"
          },
          "metadata": {}
        }
      ],
      "source": [
        "#Top 10 jugadores con mas tarjetas amarillas\n",
        "epl_yellow = epl.sort_values(by='Yellow_Cards', ascending=False)[:10]\n",
        "plt.figure(figsize=(20,6))     \n",
        "plt.title('Top 10 de Jugadores con mas Tarjetas Amarillas', fontsize=20)\n",
        "c = sns.barplot(x = epl_yellow['Name'], y = epl_yellow['Yellow_Cards'],\n",
        "                label= 'Players', color='Yellow')\n",
        "plt.ylabel('Numero de tarjetas Amarillas')\n",
        "c.set_xticklabels(c.get_xticklabels(), rotation=45)\n",
        "c\n",
        "plt.show()"
      ]
    },
    {
      "cell_type": "markdown",
      "metadata": {
        "id": "ImqfN_6L9mQo"
      },
      "source": [
        "![linea 2](https://user-images.githubusercontent.com/19308295/115926262-2fb62980-a448-11eb-8189-c2f10e499944.png)"
      ]
    },
    {
      "cell_type": "markdown",
      "metadata": {
        "id": "ZDaEmRma9mQp"
      },
      "source": [
        "## <font color=#33A5FF>****BIBLIOGRAFÍA****<tfont>"
      ]
    },
    {
      "cell_type": "markdown",
      "metadata": {
        "id": "9g0PkMuA9mQp"
      },
      "source": [
        "[1] Guía de pandas oficial https://pandas.pydata.org/docs/user_guide/index.html\n",
        "\n",
        "[2] Python Pandas Tutorial: A Complete Introduction for Beginners https://bit.ly/2AQMQld\n",
        "\n",
        "[3] Guía para pandas https://pybonacci.org/2014/05/30/pandas-i/\n",
        "\n",
        "[4] Dataset variados https://www.kaggle.com/datasets\n",
        "\n",
        "[5] SimpliLearn https://www.youtube.com/c/SimplilearnOfficial"
      ]
    },
    {
      "cell_type": "markdown",
      "metadata": {
        "id": "nIr6mvia9mQp"
      },
      "source": [
        "![linea 1](https://user-images.githubusercontent.com/19308295/115926252-2b8a0c00-a448-11eb-9d9c-b43beaf0ff68.png)"
      ]
    }
  ],
  "metadata": {
    "kernelspec": {
      "display_name": "Python 3 (ipykernel)",
      "language": "python",
      "name": "python3"
    },
    "language_info": {
      "codemirror_mode": {
        "name": "ipython",
        "version": 3
      },
      "file_extension": ".py",
      "mimetype": "text/x-python",
      "name": "python",
      "nbconvert_exporter": "python",
      "pygments_lexer": "ipython3",
      "version": "3.8.12"
    },
    "colab": {
      "name": "Pandas Análisis de Datos  - Computación 2.ipynb",
      "provenance": [],
      "collapsed_sections": []
    }
  },
  "nbformat": 4,
  "nbformat_minor": 0
}